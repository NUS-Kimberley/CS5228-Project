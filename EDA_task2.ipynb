{
 "cells": [
  {
   "cell_type": "markdown",
   "metadata": {},
   "source": [
    "## Setup Notebook"
   ]
  },
  {
   "cell_type": "code",
   "execution_count": 1,
   "metadata": {},
   "outputs": [],
   "source": [
    "import numpy as np\n",
    "import matplotlib.pyplot as plt\n",
    "import pandas as pd\n",
    "%matplotlib inline"
   ]
  },
  {
   "cell_type": "markdown",
   "metadata": {},
   "source": [
    "## Load Data"
   ]
  },
  {
   "cell_type": "code",
   "execution_count": 2,
   "metadata": {},
   "outputs": [
    {
     "name": "stdout",
     "output_type": "stream",
     "text": [
      "<class 'pandas.core.frame.DataFrame'>\n",
      "RangeIndex: 16784 entries, 0 to 16783\n",
      "Data columns (total 30 columns):\n",
      " #   Column             Non-Null Count  Dtype  \n",
      "---  ------             --------------  -----  \n",
      " 0   listing_id         16784 non-null  int64  \n",
      " 1   title              16784 non-null  object \n",
      " 2   make               14624 non-null  object \n",
      " 3   model              16784 non-null  object \n",
      " 4   description        16439 non-null  object \n",
      " 5   manufactured       16590 non-null  float64\n",
      " 6   original_reg_date  318 non-null    object \n",
      " 7   reg_date           16583 non-null  object \n",
      " 8   type_of_vehicle    16784 non-null  object \n",
      " 9   category           16784 non-null  object \n",
      " 10  transmission       16784 non-null  object \n",
      " 11  curb_weight        16205 non-null  float64\n",
      " 12  power              14447 non-null  float64\n",
      " 13  fuel_type          3490 non-null   object \n",
      " 14  engine_cap         16731 non-null  float64\n",
      " 15  no_of_owners       16608 non-null  float64\n",
      " 16  depreciation       16351 non-null  float64\n",
      " 17  coe                15893 non-null  float64\n",
      " 18  road_tax           14630 non-null  float64\n",
      " 19  dereg_value        15595 non-null  float64\n",
      " 20  mileage            13060 non-null  float64\n",
      " 21  omv                16743 non-null  float64\n",
      " 22  arf                16500 non-null  float64\n",
      " 23  opc_scheme         207 non-null    object \n",
      " 24  lifespan           1702 non-null   object \n",
      " 25  eco_category       16784 non-null  object \n",
      " 26  features           16325 non-null  object \n",
      " 27  accessories        13971 non-null  object \n",
      " 28  indicative_price   0 non-null      float64\n",
      " 29  price              16784 non-null  float64\n",
      "dtypes: float64(14), int64(1), object(15)\n",
      "memory usage: 3.8+ MB\n"
     ]
    }
   ],
   "source": [
    "car_resale_dataset = pd.read_csv(\"./data/train.csv\")\n",
    "car_resale_test = pd.read_csv(\"./data/test.csv\")\n",
    "car_resale_dataset.info()"
   ]
  },
  {
   "cell_type": "markdown",
   "metadata": {},
   "source": [
    "## Use Values in Title to Fill the N.A. Values in Make"
   ]
  },
  {
   "cell_type": "code",
   "execution_count": 3,
   "metadata": {},
   "outputs": [
    {
     "name": "stderr",
     "output_type": "stream",
     "text": [
      "/Users/Vincent/anaconda3/envs/pose/lib/python3.7/site-packages/ipykernel_launcher.py:7: SettingWithCopyWarning: \n",
      "A value is trying to be set on a copy of a slice from a DataFrame\n",
      "\n",
      "See the caveats in the documentation: https://pandas.pydata.org/pandas-docs/stable/user_guide/indexing.html#returning-a-view-versus-a-copy\n",
      "  import sys\n"
     ]
    },
    {
     "data": {
      "text/plain": [
       "toyota           2914\n",
       "mercedes-benz    2211\n",
       "honda            2156\n",
       "bmw              1636\n",
       "nissan           1091\n",
       "                 ... \n",
       "rover               1\n",
       "higer               1\n",
       "hafei               1\n",
       "international       1\n",
       "dodge               1\n",
       "Name: make, Length: 76, dtype: int64"
      ]
     },
     "execution_count": 3,
     "metadata": {},
     "output_type": "execute_result"
    }
   ],
   "source": [
    "titles = car_resale_dataset[\"title\"].str.split(pat=\" \", expand=True)\n",
    "titles.rename(columns={0:'title_make'},inplace=True)\n",
    "\n",
    "car_resale_dataset_cleaned = car_resale_dataset.copy()\n",
    "car_resale_dataset_cleaned.make.fillna(titles.title_make,inplace=True)\n",
    "car_resale_dataset_cleaned.make = car_resale_dataset_cleaned.make.str.lower()\n",
    "car_resale_dataset_cleaned.make[car_resale_dataset_cleaned.make == \"mercedes\"] = \"mercedes-benz\"\n",
    "car_resale_dataset_cleaned.make.value_counts()"
   ]
  },
  {
   "cell_type": "markdown",
   "metadata": {},
   "source": [
    "## Clean the Manufactured"
   ]
  },
  {
   "cell_type": "code",
   "execution_count": 4,
   "metadata": {},
   "outputs": [],
   "source": [
    "car_resale_dataset_cleaned = car_resale_dataset_cleaned[car_resale_dataset_cleaned.manufactured <= 2021]"
   ]
  },
  {
   "cell_type": "markdown",
   "metadata": {},
   "source": [
    "## Check the Number of N.A Values in Each Column"
   ]
  },
  {
   "cell_type": "code",
   "execution_count": 5,
   "metadata": {},
   "outputs": [
    {
     "name": "stdout",
     "output_type": "stream",
     "text": [
      "<class 'pandas.core.frame.DataFrame'>\n",
      "Int64Index: 16589 entries, 0 to 16783\n",
      "Data columns (total 30 columns):\n",
      " #   Column             Non-Null Count  Dtype  \n",
      "---  ------             --------------  -----  \n",
      " 0   listing_id         16589 non-null  int64  \n",
      " 1   title              16589 non-null  object \n",
      " 2   make               16589 non-null  object \n",
      " 3   model              16589 non-null  object \n",
      " 4   description        16246 non-null  object \n",
      " 5   manufactured       16589 non-null  float64\n",
      " 6   original_reg_date  130 non-null    object \n",
      " 7   reg_date           16574 non-null  object \n",
      " 8   type_of_vehicle    16589 non-null  object \n",
      " 9   category           16589 non-null  object \n",
      " 10  transmission       16589 non-null  object \n",
      " 11  curb_weight        16200 non-null  float64\n",
      " 12  power              14410 non-null  float64\n",
      " 13  fuel_type          3439 non-null   object \n",
      " 14  engine_cap         16539 non-null  float64\n",
      " 15  no_of_owners       16572 non-null  float64\n",
      " 16  depreciation       16344 non-null  float64\n",
      " 17  coe                15702 non-null  float64\n",
      " 18  road_tax           14472 non-null  float64\n",
      " 19  dereg_value        15590 non-null  float64\n",
      " 20  mileage            12935 non-null  float64\n",
      " 21  omv                16553 non-null  float64\n",
      " 22  arf                16494 non-null  float64\n",
      " 23  opc_scheme         207 non-null    object \n",
      " 24  lifespan           1702 non-null   object \n",
      " 25  eco_category       16589 non-null  object \n",
      " 26  features           16148 non-null  object \n",
      " 27  accessories        13806 non-null  object \n",
      " 28  indicative_price   0 non-null      float64\n",
      " 29  price              16589 non-null  float64\n",
      "dtypes: float64(14), int64(1), object(15)\n",
      "memory usage: 3.9+ MB\n"
     ]
    }
   ],
   "source": [
    "car_resale_dataset_cleaned.info()"
   ]
  },
  {
   "cell_type": "markdown",
   "metadata": {},
   "source": [
    "## Preprocess the Numerical Features"
   ]
  },
  {
   "cell_type": "code",
   "execution_count": 6,
   "metadata": {},
   "outputs": [
    {
     "data": {
      "text/plain": [
       "Index(['listing_id', 'manufactured', 'curb_weight', 'power', 'engine_cap',\n",
       "       'no_of_owners', 'depreciation', 'coe', 'road_tax', 'dereg_value',\n",
       "       'mileage', 'omv', 'arf', 'indicative_price', 'price'],\n",
       "      dtype='object')"
      ]
     },
     "execution_count": 6,
     "metadata": {},
     "output_type": "execute_result"
    }
   ],
   "source": [
    "numeric_features = car_resale_dataset_cleaned.dtypes[car_resale_dataset_cleaned.dtypes != 'object'].index\n",
    "numeric_features"
   ]
  },
  {
   "cell_type": "code",
   "execution_count": 7,
   "metadata": {},
   "outputs": [
    {
     "data": {
      "text/plain": [
       "count    16574.000000\n",
       "mean      2014.648968\n",
       "std          4.900726\n",
       "min       1969.000000\n",
       "25%       2011.000000\n",
       "50%       2016.000000\n",
       "75%       2018.000000\n",
       "max       2022.000000\n",
       "Name: reg_date, dtype: float64"
      ]
     },
     "execution_count": 7,
     "metadata": {},
     "output_type": "execute_result"
    }
   ],
   "source": [
    "car_resale_dataset_cleaned.reg_date = pd.to_datetime(car_resale_dataset_cleaned.reg_date)\n",
    "car_resale_dataset_cleaned.reg_date = car_resale_dataset_cleaned.reg_date.apply(lambda x: float(x.year))\n",
    "car_resale_dataset_cleaned.reg_date.describe()"
   ]
  },
  {
   "cell_type": "markdown",
   "metadata": {},
   "source": [
    "## Drop Some Columns "
   ]
  },
  {
   "cell_type": "code",
   "execution_count": 8,
   "metadata": {},
   "outputs": [
    {
     "data": {
      "text/html": [
       "<div>\n",
       "<style scoped>\n",
       "    .dataframe tbody tr th:only-of-type {\n",
       "        vertical-align: middle;\n",
       "    }\n",
       "\n",
       "    .dataframe tbody tr th {\n",
       "        vertical-align: top;\n",
       "    }\n",
       "\n",
       "    .dataframe thead th {\n",
       "        text-align: right;\n",
       "    }\n",
       "</style>\n",
       "<table border=\"1\" class=\"dataframe\">\n",
       "  <thead>\n",
       "    <tr style=\"text-align: right;\">\n",
       "      <th></th>\n",
       "      <th>listing_id</th>\n",
       "      <th>title</th>\n",
       "      <th>make</th>\n",
       "      <th>model</th>\n",
       "      <th>description</th>\n",
       "      <th>manufactured</th>\n",
       "      <th>reg_date</th>\n",
       "      <th>type_of_vehicle</th>\n",
       "      <th>category</th>\n",
       "      <th>transmission</th>\n",
       "      <th>...</th>\n",
       "      <th>depreciation</th>\n",
       "      <th>coe</th>\n",
       "      <th>road_tax</th>\n",
       "      <th>dereg_value</th>\n",
       "      <th>mileage</th>\n",
       "      <th>omv</th>\n",
       "      <th>arf</th>\n",
       "      <th>features</th>\n",
       "      <th>accessories</th>\n",
       "      <th>price</th>\n",
       "    </tr>\n",
       "  </thead>\n",
       "  <tbody>\n",
       "    <tr>\n",
       "      <th>0</th>\n",
       "      <td>1030324</td>\n",
       "      <td>BMW 3 Series 320i Gran Turismo M-Sport</td>\n",
       "      <td>bmw</td>\n",
       "      <td>320i</td>\n",
       "      <td>1 owner! 320i gt m-sports model! big brake kit...</td>\n",
       "      <td>2013.0</td>\n",
       "      <td>2013.0</td>\n",
       "      <td>luxury sedan</td>\n",
       "      <td>parf car, premium ad car, low mileage car</td>\n",
       "      <td>auto</td>\n",
       "      <td>...</td>\n",
       "      <td>17700.0</td>\n",
       "      <td>77100.0</td>\n",
       "      <td>1210.0</td>\n",
       "      <td>47514.0</td>\n",
       "      <td>73000.0</td>\n",
       "      <td>45330.0</td>\n",
       "      <td>50462.0</td>\n",
       "      <td>5 doors gt, powerful and fuel efficient 2.0l t...</td>\n",
       "      <td>bmw i-drive, navigation, bluetooth/aux/usb inp...</td>\n",
       "      <td>71300.0</td>\n",
       "    </tr>\n",
       "    <tr>\n",
       "      <th>1</th>\n",
       "      <td>1021510</td>\n",
       "      <td>Toyota Hiace 3.0M</td>\n",
       "      <td>toyota</td>\n",
       "      <td>hiace</td>\n",
       "      <td>high loan available! low mileage unit. wear an...</td>\n",
       "      <td>2014.0</td>\n",
       "      <td>2015.0</td>\n",
       "      <td>van</td>\n",
       "      <td>premium ad car</td>\n",
       "      <td>manual</td>\n",
       "      <td>...</td>\n",
       "      <td>11630.0</td>\n",
       "      <td>10660.0</td>\n",
       "      <td>NaN</td>\n",
       "      <td>3648.0</td>\n",
       "      <td>110112.0</td>\n",
       "      <td>27502.0</td>\n",
       "      <td>1376.0</td>\n",
       "      <td>low mileage unit. well maintained vehicle. vie...</td>\n",
       "      <td>factory radio setting. front recording camera....</td>\n",
       "      <td>43800.0</td>\n",
       "    </tr>\n",
       "    <tr>\n",
       "      <th>2</th>\n",
       "      <td>1026909</td>\n",
       "      <td>Mercedes-Benz CLA-Class CLA180</td>\n",
       "      <td>mercedes-benz</td>\n",
       "      <td>cla180</td>\n",
       "      <td>1 owner c&amp;c unit. full agent service with 1 mo...</td>\n",
       "      <td>2016.0</td>\n",
       "      <td>2016.0</td>\n",
       "      <td>luxury sedan</td>\n",
       "      <td>parf car, premium ad car</td>\n",
       "      <td>auto</td>\n",
       "      <td>...</td>\n",
       "      <td>15070.0</td>\n",
       "      <td>53694.0</td>\n",
       "      <td>740.0</td>\n",
       "      <td>44517.0</td>\n",
       "      <td>80000.0</td>\n",
       "      <td>27886.0</td>\n",
       "      <td>26041.0</td>\n",
       "      <td>responsive and fuel efficient 1.6l inline 4 cy...</td>\n",
       "      <td>dual electric/memory seats. factory fitted aud...</td>\n",
       "      <td>95500.0</td>\n",
       "    </tr>\n",
       "    <tr>\n",
       "      <th>3</th>\n",
       "      <td>1019371</td>\n",
       "      <td>Mercedes-Benz E-Class E180 Avantgarde</td>\n",
       "      <td>mercedes-benz</td>\n",
       "      <td>e180</td>\n",
       "      <td>fully agent maintained, 3 years warranty 10 ye...</td>\n",
       "      <td>2019.0</td>\n",
       "      <td>2020.0</td>\n",
       "      <td>luxury sedan</td>\n",
       "      <td>parf car, almost new car, consignment car</td>\n",
       "      <td>auto</td>\n",
       "      <td>...</td>\n",
       "      <td>16400.0</td>\n",
       "      <td>40690.0</td>\n",
       "      <td>684.0</td>\n",
       "      <td>80301.0</td>\n",
       "      <td>9800.0</td>\n",
       "      <td>46412.0</td>\n",
       "      <td>56977.0</td>\n",
       "      <td>1.5l inline-4 twin scroll turbocharged engine,...</td>\n",
       "      <td>64 colour ambient lighting. active parking ass...</td>\n",
       "      <td>197900.0</td>\n",
       "    </tr>\n",
       "    <tr>\n",
       "      <th>4</th>\n",
       "      <td>1031014</td>\n",
       "      <td>Honda Civic 1.6A VTi</td>\n",
       "      <td>honda</td>\n",
       "      <td>civic</td>\n",
       "      <td>kah motor unit! 1 owner, lowest 1.98% for full...</td>\n",
       "      <td>2019.0</td>\n",
       "      <td>2019.0</td>\n",
       "      <td>mid-sized sedan</td>\n",
       "      <td>parf car</td>\n",
       "      <td>auto</td>\n",
       "      <td>...</td>\n",
       "      <td>10450.0</td>\n",
       "      <td>26667.0</td>\n",
       "      <td>742.0</td>\n",
       "      <td>36453.0</td>\n",
       "      <td>40000.0</td>\n",
       "      <td>20072.0</td>\n",
       "      <td>20101.0</td>\n",
       "      <td>1.6l i-vtec engine, 123 bhp, earth dreams cvt ...</td>\n",
       "      <td>s/rims, premium leather seats, factory touch s...</td>\n",
       "      <td>103200.0</td>\n",
       "    </tr>\n",
       "  </tbody>\n",
       "</table>\n",
       "<p>5 rows × 24 columns</p>\n",
       "</div>"
      ],
      "text/plain": [
       "   listing_id                                   title           make   model  \\\n",
       "0     1030324  BMW 3 Series 320i Gran Turismo M-Sport            bmw    320i   \n",
       "1     1021510                       Toyota Hiace 3.0M         toyota   hiace   \n",
       "2     1026909          Mercedes-Benz CLA-Class CLA180  mercedes-benz  cla180   \n",
       "3     1019371   Mercedes-Benz E-Class E180 Avantgarde  mercedes-benz    e180   \n",
       "4     1031014                    Honda Civic 1.6A VTi          honda   civic   \n",
       "\n",
       "                                         description  manufactured  reg_date  \\\n",
       "0  1 owner! 320i gt m-sports model! big brake kit...        2013.0    2013.0   \n",
       "1  high loan available! low mileage unit. wear an...        2014.0    2015.0   \n",
       "2  1 owner c&c unit. full agent service with 1 mo...        2016.0    2016.0   \n",
       "3  fully agent maintained, 3 years warranty 10 ye...        2019.0    2020.0   \n",
       "4  kah motor unit! 1 owner, lowest 1.98% for full...        2019.0    2019.0   \n",
       "\n",
       "   type_of_vehicle                                   category transmission  \\\n",
       "0     luxury sedan  parf car, premium ad car, low mileage car         auto   \n",
       "1              van                             premium ad car       manual   \n",
       "2     luxury sedan                   parf car, premium ad car         auto   \n",
       "3     luxury sedan  parf car, almost new car, consignment car         auto   \n",
       "4  mid-sized sedan                                   parf car         auto   \n",
       "\n",
       "   ...  depreciation      coe  road_tax  dereg_value   mileage      omv  \\\n",
       "0  ...       17700.0  77100.0    1210.0      47514.0   73000.0  45330.0   \n",
       "1  ...       11630.0  10660.0       NaN       3648.0  110112.0  27502.0   \n",
       "2  ...       15070.0  53694.0     740.0      44517.0   80000.0  27886.0   \n",
       "3  ...       16400.0  40690.0     684.0      80301.0    9800.0  46412.0   \n",
       "4  ...       10450.0  26667.0     742.0      36453.0   40000.0  20072.0   \n",
       "\n",
       "       arf                                           features  \\\n",
       "0  50462.0  5 doors gt, powerful and fuel efficient 2.0l t...   \n",
       "1   1376.0  low mileage unit. well maintained vehicle. vie...   \n",
       "2  26041.0  responsive and fuel efficient 1.6l inline 4 cy...   \n",
       "3  56977.0  1.5l inline-4 twin scroll turbocharged engine,...   \n",
       "4  20101.0  1.6l i-vtec engine, 123 bhp, earth dreams cvt ...   \n",
       "\n",
       "                                         accessories     price  \n",
       "0  bmw i-drive, navigation, bluetooth/aux/usb inp...   71300.0  \n",
       "1  factory radio setting. front recording camera....   43800.0  \n",
       "2  dual electric/memory seats. factory fitted aud...   95500.0  \n",
       "3  64 colour ambient lighting. active parking ass...  197900.0  \n",
       "4  s/rims, premium leather seats, factory touch s...  103200.0  \n",
       "\n",
       "[5 rows x 24 columns]"
      ]
     },
     "execution_count": 8,
     "metadata": {},
     "output_type": "execute_result"
    }
   ],
   "source": [
    "car_resale_dataset_cleaned = car_resale_dataset_cleaned.drop(columns=['original_reg_date','fuel_type','opc_scheme','lifespan','eco_category','indicative_price'])\n",
    "car_resale_dataset_cleaned.head()"
   ]
  },
  {
   "cell_type": "markdown",
   "metadata": {},
   "source": [
    "## Drop the N.A. Values"
   ]
  },
  {
   "cell_type": "code",
   "execution_count": 9,
   "metadata": {},
   "outputs": [
    {
     "name": "stdout",
     "output_type": "stream",
     "text": [
      "<class 'pandas.core.frame.DataFrame'>\n",
      "Int64Index: 10312 entries, 0 to 16783\n",
      "Data columns (total 24 columns):\n",
      " #   Column           Non-Null Count  Dtype  \n",
      "---  ------           --------------  -----  \n",
      " 0   listing_id       10312 non-null  int64  \n",
      " 1   title            10312 non-null  object \n",
      " 2   make             10312 non-null  object \n",
      " 3   model            10312 non-null  object \n",
      " 4   description      10312 non-null  object \n",
      " 5   manufactured     10312 non-null  float64\n",
      " 6   reg_date         10312 non-null  float64\n",
      " 7   type_of_vehicle  10312 non-null  object \n",
      " 8   category         10312 non-null  object \n",
      " 9   transmission     10312 non-null  object \n",
      " 10  curb_weight      10312 non-null  float64\n",
      " 11  power            10312 non-null  float64\n",
      " 12  engine_cap       10312 non-null  float64\n",
      " 13  no_of_owners     10312 non-null  float64\n",
      " 14  depreciation     10312 non-null  float64\n",
      " 15  coe              10312 non-null  float64\n",
      " 16  road_tax         10312 non-null  float64\n",
      " 17  dereg_value      10312 non-null  float64\n",
      " 18  mileage          10312 non-null  float64\n",
      " 19  omv              10312 non-null  float64\n",
      " 20  arf              10312 non-null  float64\n",
      " 21  features         10312 non-null  object \n",
      " 22  accessories      10312 non-null  object \n",
      " 23  price            10312 non-null  float64\n",
      "dtypes: float64(14), int64(1), object(9)\n",
      "memory usage: 2.0+ MB\n"
     ]
    }
   ],
   "source": [
    "car_resale_dataset_cleaned = car_resale_dataset_cleaned.dropna()\n",
    "car_resale_dataset_cleaned.info()"
   ]
  },
  {
   "cell_type": "markdown",
   "metadata": {},
   "source": [
    "## Select the Final Features"
   ]
  },
  {
   "cell_type": "code",
   "execution_count": 10,
   "metadata": {},
   "outputs": [
    {
     "data": {
      "text/plain": [
       "Index(['listing_id', 'title', 'make', 'model', 'description', 'manufactured',\n",
       "       'reg_date', 'type_of_vehicle', 'category', 'transmission',\n",
       "       'curb_weight', 'power', 'engine_cap', 'no_of_owners', 'depreciation',\n",
       "       'coe', 'road_tax', 'dereg_value', 'mileage', 'omv', 'arf', 'features',\n",
       "       'accessories', 'price'],\n",
       "      dtype='object')"
      ]
     },
     "execution_count": 10,
     "metadata": {},
     "output_type": "execute_result"
    }
   ],
   "source": [
    "features = car_resale_dataset_cleaned.dtypes.index\n",
    "features"
   ]
  },
  {
   "cell_type": "code",
   "execution_count": 11,
   "metadata": {},
   "outputs": [
    {
     "data": {
      "text/html": [
       "<div>\n",
       "<style scoped>\n",
       "    .dataframe tbody tr th:only-of-type {\n",
       "        vertical-align: middle;\n",
       "    }\n",
       "\n",
       "    .dataframe tbody tr th {\n",
       "        vertical-align: top;\n",
       "    }\n",
       "\n",
       "    .dataframe thead th {\n",
       "        text-align: right;\n",
       "    }\n",
       "</style>\n",
       "<table border=\"1\" class=\"dataframe\">\n",
       "  <thead>\n",
       "    <tr style=\"text-align: right;\">\n",
       "      <th></th>\n",
       "      <th>listing_id</th>\n",
       "      <th>make</th>\n",
       "      <th>manufactured</th>\n",
       "      <th>reg_date</th>\n",
       "      <th>type_of_vehicle</th>\n",
       "      <th>transmission</th>\n",
       "      <th>power</th>\n",
       "      <th>engine_cap</th>\n",
       "      <th>no_of_owners</th>\n",
       "      <th>depreciation</th>\n",
       "      <th>coe</th>\n",
       "      <th>road_tax</th>\n",
       "      <th>dereg_value</th>\n",
       "      <th>mileage</th>\n",
       "      <th>omv</th>\n",
       "      <th>arf</th>\n",
       "      <th>price</th>\n",
       "    </tr>\n",
       "  </thead>\n",
       "  <tbody>\n",
       "    <tr>\n",
       "      <th>0</th>\n",
       "      <td>1030324</td>\n",
       "      <td>bmw</td>\n",
       "      <td>2013.0</td>\n",
       "      <td>2013.0</td>\n",
       "      <td>luxury sedan</td>\n",
       "      <td>auto</td>\n",
       "      <td>135.0</td>\n",
       "      <td>1997.0</td>\n",
       "      <td>1.0</td>\n",
       "      <td>17700.0</td>\n",
       "      <td>77100.0</td>\n",
       "      <td>1210.0</td>\n",
       "      <td>47514.0</td>\n",
       "      <td>73000.0</td>\n",
       "      <td>45330.0</td>\n",
       "      <td>50462.0</td>\n",
       "      <td>71300.0</td>\n",
       "    </tr>\n",
       "    <tr>\n",
       "      <th>2</th>\n",
       "      <td>1026909</td>\n",
       "      <td>mercedes-benz</td>\n",
       "      <td>2016.0</td>\n",
       "      <td>2016.0</td>\n",
       "      <td>luxury sedan</td>\n",
       "      <td>auto</td>\n",
       "      <td>90.0</td>\n",
       "      <td>1595.0</td>\n",
       "      <td>1.0</td>\n",
       "      <td>15070.0</td>\n",
       "      <td>53694.0</td>\n",
       "      <td>740.0</td>\n",
       "      <td>44517.0</td>\n",
       "      <td>80000.0</td>\n",
       "      <td>27886.0</td>\n",
       "      <td>26041.0</td>\n",
       "      <td>95500.0</td>\n",
       "    </tr>\n",
       "    <tr>\n",
       "      <th>3</th>\n",
       "      <td>1019371</td>\n",
       "      <td>mercedes-benz</td>\n",
       "      <td>2019.0</td>\n",
       "      <td>2020.0</td>\n",
       "      <td>luxury sedan</td>\n",
       "      <td>auto</td>\n",
       "      <td>115.0</td>\n",
       "      <td>1497.0</td>\n",
       "      <td>1.0</td>\n",
       "      <td>16400.0</td>\n",
       "      <td>40690.0</td>\n",
       "      <td>684.0</td>\n",
       "      <td>80301.0</td>\n",
       "      <td>9800.0</td>\n",
       "      <td>46412.0</td>\n",
       "      <td>56977.0</td>\n",
       "      <td>197900.0</td>\n",
       "    </tr>\n",
       "    <tr>\n",
       "      <th>4</th>\n",
       "      <td>1031014</td>\n",
       "      <td>honda</td>\n",
       "      <td>2019.0</td>\n",
       "      <td>2019.0</td>\n",
       "      <td>mid-sized sedan</td>\n",
       "      <td>auto</td>\n",
       "      <td>92.0</td>\n",
       "      <td>1597.0</td>\n",
       "      <td>1.0</td>\n",
       "      <td>10450.0</td>\n",
       "      <td>26667.0</td>\n",
       "      <td>742.0</td>\n",
       "      <td>36453.0</td>\n",
       "      <td>40000.0</td>\n",
       "      <td>20072.0</td>\n",
       "      <td>20101.0</td>\n",
       "      <td>103200.0</td>\n",
       "    </tr>\n",
       "    <tr>\n",
       "      <th>6</th>\n",
       "      <td>1012998</td>\n",
       "      <td>volvo</td>\n",
       "      <td>2015.0</td>\n",
       "      <td>2015.0</td>\n",
       "      <td>hatchback</td>\n",
       "      <td>auto</td>\n",
       "      <td>90.0</td>\n",
       "      <td>1498.0</td>\n",
       "      <td>3.0</td>\n",
       "      <td>11020.0</td>\n",
       "      <td>56001.0</td>\n",
       "      <td>684.0</td>\n",
       "      <td>37311.0</td>\n",
       "      <td>77777.0</td>\n",
       "      <td>22809.0</td>\n",
       "      <td>18933.0</td>\n",
       "      <td>62500.0</td>\n",
       "    </tr>\n",
       "  </tbody>\n",
       "</table>\n",
       "</div>"
      ],
      "text/plain": [
       "   listing_id           make  manufactured  reg_date  type_of_vehicle  \\\n",
       "0     1030324            bmw        2013.0    2013.0     luxury sedan   \n",
       "2     1026909  mercedes-benz        2016.0    2016.0     luxury sedan   \n",
       "3     1019371  mercedes-benz        2019.0    2020.0     luxury sedan   \n",
       "4     1031014          honda        2019.0    2019.0  mid-sized sedan   \n",
       "6     1012998          volvo        2015.0    2015.0        hatchback   \n",
       "\n",
       "  transmission  power  engine_cap  no_of_owners  depreciation      coe  \\\n",
       "0         auto  135.0      1997.0           1.0       17700.0  77100.0   \n",
       "2         auto   90.0      1595.0           1.0       15070.0  53694.0   \n",
       "3         auto  115.0      1497.0           1.0       16400.0  40690.0   \n",
       "4         auto   92.0      1597.0           1.0       10450.0  26667.0   \n",
       "6         auto   90.0      1498.0           3.0       11020.0  56001.0   \n",
       "\n",
       "   road_tax  dereg_value  mileage      omv      arf     price  \n",
       "0    1210.0      47514.0  73000.0  45330.0  50462.0   71300.0  \n",
       "2     740.0      44517.0  80000.0  27886.0  26041.0   95500.0  \n",
       "3     684.0      80301.0   9800.0  46412.0  56977.0  197900.0  \n",
       "4     742.0      36453.0  40000.0  20072.0  20101.0  103200.0  \n",
       "6     684.0      37311.0  77777.0  22809.0  18933.0   62500.0  "
      ]
     },
     "execution_count": 11,
     "metadata": {},
     "output_type": "execute_result"
    }
   ],
   "source": [
    "selected_features = ['listing_id','make', 'manufactured',\n",
    "       'reg_date', 'type_of_vehicle', 'transmission',\n",
    "       'power', 'engine_cap', 'no_of_owners', 'depreciation',\n",
    "       'coe', 'road_tax', 'dereg_value', 'mileage', 'omv', 'arf', 'price']\n",
    "\n",
    "\n",
    "car_resale_simplified_dataset = car_resale_dataset_cleaned[selected_features]\n",
    "car_resale_simplified_dataset.head()"
   ]
  },
  {
   "cell_type": "markdown",
   "metadata": {},
   "source": [
    "## Export to CSV File"
   ]
  },
  {
   "cell_type": "code",
   "execution_count": 12,
   "metadata": {},
   "outputs": [
    {
     "data": {
      "text/plain": [
       "(10312, 17)"
      ]
     },
     "execution_count": 12,
     "metadata": {},
     "output_type": "execute_result"
    }
   ],
   "source": [
    "car_resale_simplified_dataset.to_csv(\"./data/preprocessed_recommendation_data.csv\",index=None)\n",
    "car_resale_simplified_dataset.shape"
   ]
  }
 ],
 "metadata": {
  "interpreter": {
   "hash": "be83b15fca14b7eb97d243918907025bd08fd5fffe33df135e555109e311280c"
  },
  "kernelspec": {
   "display_name": "Python 3.7.11 64-bit ('pose': conda)",
   "name": "python3"
  },
  "language_info": {
   "codemirror_mode": {
    "name": "ipython",
    "version": 3
   },
   "file_extension": ".py",
   "mimetype": "text/x-python",
   "name": "python",
   "nbconvert_exporter": "python",
   "pygments_lexer": "ipython3",
   "version": "3.7.11"
  },
  "orig_nbformat": 4
 },
 "nbformat": 4,
 "nbformat_minor": 2
}
