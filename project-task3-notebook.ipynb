{
 "cells": [
  {
   "cell_type": "markdown",
   "metadata": {},
   "source": [
    "## Setting up the Notebook"
   ]
  },
  {
   "cell_type": "code",
   "execution_count": 1,
   "metadata": {},
   "outputs": [
    {
     "name": "stderr",
     "output_type": "stream",
     "text": [
      "Using TensorFlow backend.\n"
     ]
    }
   ],
   "source": [
    "import numpy as np\n",
    "import pandas as pd\n",
    "from sklearn.model_selection import train_test_split\n",
    "from sklearn.model_selection import KFold\n",
    "from sklearn.tree import DecisionTreeRegressor\n",
    "from sklearn.metrics import mean_squared_error\n",
    "from sklearn.ensemble import RandomForestRegressor,GradientBoostingRegressor\n",
    "from src.train import train_and_get_tree_model, train_and_get_forest, train_and_get_gbr, grid_search"
   ]
  },
  {
   "cell_type": "code",
   "execution_count": 2,
   "metadata": {},
   "outputs": [],
   "source": [
    "%matplotlib inline"
   ]
  },
  {
   "cell_type": "markdown",
   "metadata": {},
   "source": [
    "## Load Data"
   ]
  },
  {
   "cell_type": "code",
   "execution_count": 3,
   "metadata": {},
   "outputs": [
    {
     "name": "stdout",
     "output_type": "stream",
     "text": [
      "(4463, 53) (4463,) (1116, 53) (1116,)\n"
     ]
    }
   ],
   "source": [
    "def load_data(path = \"./data/preprocessed_data_task3.csv\"):\n",
    "\n",
    "    train_data = pd.read_csv(path)\n",
    "\n",
    "    X = train_data.iloc[:,0:-1]\n",
    "    X = np.array(X)\n",
    "    y = train_data[\"pred\"]\n",
    "    y = np.array(y)\n",
    "\n",
    "    x_train, x_test, y_train, y_test = train_test_split(X, y, test_size=0.2, random_state=2021)\n",
    "    print(x_train.shape, y_train.shape, x_test.shape, y_test.shape)\n",
    "    return x_train, y_train, x_test, y_test\n",
    "\n",
    "x_train, y_train, x_test, y_test = load_data()"
   ]
  },
  {
   "cell_type": "markdown",
   "metadata": {
    "id": "eAEhEumogyW7"
   },
   "source": [
    "## Grid Search for Tree-Based Models"
   ]
  },
  {
   "cell_type": "code",
   "execution_count": 12,
   "metadata": {
    "id": "Oc6TFVnHgyW7",
    "outputId": "0dbe6dfa-4eba-4985-ee75-bec93393b296"
   },
   "outputs": [
    {
     "name": "stdout",
     "output_type": "stream",
     "text": [
      "(5579, 53) (5579,)\n",
      "(4463, 53) (4463,) (1116, 53) (1116,)\n",
      "Parameters: {'max_depth': 100} (RMSE: 0.21702585097669108)\n"
     ]
    }
   ],
   "source": [
    "# For Decision Tree\n",
    "parameters = {'max_depth':[20,40,60,80,100,120]}\n",
    "grid_search(\"tree\", parameters, \"./data/preprocessed_data_task3.csv\")"
   ]
  },
  {
   "cell_type": "code",
   "execution_count": 9,
   "metadata": {
    "id": "mryK3IIogyW8",
    "outputId": "ca338362-7949-4381-8da4-89894247a8d2"
   },
   "outputs": [
    {
     "name": "stdout",
     "output_type": "stream",
     "text": [
      "(5579, 53) (5579,)\n",
      "(4463, 53) (4463,) (1116, 53) (1116,)\n",
      "Parameters: {'max_depth': 10, 'n_estimators': 50} (RMSE: 0.15711417049327958)\n"
     ]
    }
   ],
   "source": [
    "# For Random Forest\n",
    "parameters = {'n_estimators':[50,100,150],'max_depth':[10,15,20]}\n",
    "grid_search(\"forest\", parameters, \"./data/preprocessed_data_task3.csv\")"
   ]
  },
  {
   "cell_type": "code",
   "execution_count": 10,
   "metadata": {
    "id": "vIGMkvKBgyW8",
    "outputId": "186fe2ea-9421-456b-f1e4-21126fc78381"
   },
   "outputs": [
    {
     "name": "stdout",
     "output_type": "stream",
     "text": [
      "(5579, 53) (5579,)\n",
      "(4463, 53) (4463,) (1116, 53) (1116,)\n",
      "Parameters: {'learning_rate': 0.15, 'n_estimators': 300} (RMSE: 0.13243662835001713)\n"
     ]
    }
   ],
   "source": [
    "# For Gradient Boosting Rrgession\n",
    "parameters = {'n_estimators':[100,200,300],'learning_rate':[0.1,0.15,0.2]}\n",
    "grid_search(\"gbr\", parameters, \"./data/preprocessed_data_task3.csv\")"
   ]
  },
  {
   "cell_type": "markdown",
   "metadata": {},
   "source": [
    "## Train the tree, forest and gbr model"
   ]
  },
  {
   "cell_type": "code",
   "execution_count": 4,
   "metadata": {},
   "outputs": [
    {
     "name": "stdout",
     "output_type": "stream",
     "text": [
      "0.2081674603465012\n",
      "[ 0.16051895 -0.23398764  0.18898529  0.28392979  0.51186611  0.33336393\n",
      "  0.20379581 -0.03052993  0.4651284   0.04736761 -0.4271479  -0.71528258\n",
      " -0.56509951  0.06232847  0.04073908]\n",
      "[ 1.31736157e-01 -3.14202335e-01  2.04341022e-01  3.47937110e-01\n",
      "  4.27033597e-01  2.55077420e-01  2.83759781e-01  1.29459013e-01\n",
      "  4.84905491e-01  8.60934483e-05 -2.82120130e-01 -6.08311755e-01\n",
      " -1.37057501e-01 -1.16464946e-02  6.94989090e-02]\n"
     ]
    },
    {
     "data": {
      "text/plain": [
       "DecisionTreeRegressor(max_depth=100)"
      ]
     },
     "execution_count": 4,
     "metadata": {},
     "output_type": "execute_result"
    }
   ],
   "source": [
    "train_and_get_tree_model(x_train, y_train, x_test, y_test, csv=False)"
   ]
  },
  {
   "cell_type": "code",
   "execution_count": 5,
   "metadata": {},
   "outputs": [
    {
     "name": "stdout",
     "output_type": "stream",
     "text": [
      "0.15269300546698364\n",
      "[ 0.18476731 -0.31776829  0.0712733   0.37015236  0.47426182  0.26928513\n",
      "  0.24582937  0.09955485  0.50020506  0.07248069 -0.41837975 -0.58730234\n",
      " -0.58010351  0.05572334  0.0632535 ]\n",
      "[ 1.31736157e-01 -3.14202335e-01  2.04341022e-01  3.47937110e-01\n",
      "  4.27033597e-01  2.55077420e-01  2.83759781e-01  1.29459013e-01\n",
      "  4.84905491e-01  8.60934483e-05 -2.82120130e-01 -6.08311755e-01\n",
      " -1.37057501e-01 -1.16464946e-02  6.94989090e-02]\n"
     ]
    },
    {
     "data": {
      "text/plain": [
       "RandomForestRegressor(max_depth=10, n_estimators=50, random_state=2021)"
      ]
     },
     "execution_count": 5,
     "metadata": {},
     "output_type": "execute_result"
    }
   ],
   "source": [
    "train_and_get_forest(x_train, y_train, x_test, y_test, csv=False)"
   ]
  },
  {
   "cell_type": "code",
   "execution_count": 6,
   "metadata": {},
   "outputs": [
    {
     "name": "stdout",
     "output_type": "stream",
     "text": [
      "0.12194088275928698\n",
      "[ 0.1967996  -0.28788795  0.14887663  0.19435483  0.41857429  0.2714377\n",
      "  0.27015024  0.07239945  0.45194879 -0.05777614 -0.50578207 -0.65846466\n",
      " -0.47052991  0.01865495  0.10911381]\n",
      "[ 1.31736157e-01 -3.14202335e-01  2.04341022e-01  3.47937110e-01\n",
      "  4.27033597e-01  2.55077420e-01  2.83759781e-01  1.29459013e-01\n",
      "  4.84905491e-01  8.60934483e-05 -2.82120130e-01 -6.08311755e-01\n",
      " -1.37057501e-01 -1.16464946e-02  6.94989090e-02]\n"
     ]
    },
    {
     "data": {
      "text/plain": [
       "GradientBoostingRegressor(learning_rate=0.15, max_features='sqrt',\n",
       "                          n_estimators=300, random_state=2021)"
      ]
     },
     "execution_count": 6,
     "metadata": {},
     "output_type": "execute_result"
    }
   ],
   "source": [
    "train_and_get_gbr(x_train, y_train, x_test, y_test, csv=False)"
   ]
  }
 ],
 "metadata": {
  "interpreter": {
   "hash": "be83b15fca14b7eb97d243918907025bd08fd5fffe33df135e555109e311280c"
  },
  "kernelspec": {
   "display_name": "Python 3.7.11 64-bit ('pose': conda)",
   "name": "python3"
  },
  "language_info": {
   "codemirror_mode": {
    "name": "ipython",
    "version": 3
   },
   "file_extension": ".py",
   "mimetype": "text/x-python",
   "name": "python",
   "nbconvert_exporter": "python",
   "pygments_lexer": "ipython3",
   "version": "3.7.11"
  },
  "orig_nbformat": 4
 },
 "nbformat": 4,
 "nbformat_minor": 2
}
