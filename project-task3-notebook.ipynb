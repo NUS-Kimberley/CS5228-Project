{
 "cells": [
  {
   "cell_type": "markdown",
   "metadata": {},
   "source": [
    "## Setting up the Notebook"
   ]
  },
  {
   "cell_type": "code",
   "execution_count": 8,
   "metadata": {},
   "outputs": [],
   "source": [
    "import numpy as np\n",
    "import pandas as pd\n",
    "from sklearn.model_selection import train_test_split\n",
    "from sklearn.model_selection import KFold\n",
    "from sklearn.tree import DecisionTreeRegressor\n",
    "from sklearn.metrics import mean_squared_error\n",
    "from sklearn.ensemble import RandomForestRegressor,GradientBoostingRegressor\n",
    "from src.train import train_and_get_tree_model, train_and_get_forest, train_and_get_gbr"
   ]
  },
  {
   "cell_type": "code",
   "execution_count": 9,
   "metadata": {},
   "outputs": [],
   "source": [
    "%matplotlib inline"
   ]
  },
  {
   "cell_type": "markdown",
   "metadata": {},
   "source": [
    "## Load Data"
   ]
  },
  {
   "cell_type": "code",
   "execution_count": 10,
   "metadata": {},
   "outputs": [
    {
     "name": "stdout",
     "output_type": "stream",
     "text": [
      "(9130, 74) (9130,) (2283, 74) (2283,)\n"
     ]
    }
   ],
   "source": [
    "def load_data(path = \"./data/preprocessed_data_task3.csv\"):\n",
    "\n",
    "    train_data = pd.read_csv(path)\n",
    "\n",
    "    X = train_data.iloc[:,0:-1]\n",
    "    X = np.array(X)\n",
    "    y = train_data[\"pred\"]\n",
    "    y = np.array(y)\n",
    "\n",
    "    x_train, x_test, y_train, y_test = train_test_split(X, y, test_size=0.2, random_state=2021)\n",
    "    print(x_train.shape, y_train.shape, x_test.shape, y_test.shape)\n",
    "    return x_train, y_train, x_test, y_test\n",
    "\n",
    "x_train, y_train, x_test, y_test = load_data()"
   ]
  },
  {
   "cell_type": "markdown",
   "metadata": {},
   "source": [
    "## Train the tree, forest and gbr model"
   ]
  },
  {
   "cell_type": "code",
   "execution_count": 11,
   "metadata": {},
   "outputs": [
    {
     "name": "stdout",
     "output_type": "stream",
     "text": [
      "0.968348958159981\n",
      "[-2.5477096  -2.7613489  -2.12241094 -3.92079979 -1.14277659 -0.75419831\n",
      " -4.15863781 -1.77296852 -2.78936132 -3.17429803 -2.98058252 -2.75822776\n",
      " -4.9111747  -1.85458928 -0.69927628]\n",
      "[-2.73693776 -2.00569628  0.2865212  -3.39772256 -1.55085937 -0.0746939\n",
      " -3.45006244 -2.66104713 -2.78936132 -2.85666328 -2.81003202 -2.37546682\n",
      " -4.47135584 -1.88228236 -0.87941486]\n"
     ]
    },
    {
     "data": {
      "text/plain": [
       "DecisionTreeRegressor()"
      ]
     },
     "execution_count": 11,
     "metadata": {},
     "output_type": "execute_result"
    }
   ],
   "source": [
    "train_and_get_tree_model(x_train, y_train, x_test, y_test, csv=False)"
   ]
  },
  {
   "cell_type": "code",
   "execution_count": 12,
   "metadata": {},
   "outputs": [
    {
     "name": "stdout",
     "output_type": "stream",
     "text": [
      "0.7143979374309047\n",
      "[-2.36290889 -2.31176092 -1.33432035 -3.93384895 -1.23433496 -0.84671134\n",
      " -3.94219161 -2.26821308 -2.72170454 -3.13789126 -2.98171655 -2.32508574\n",
      " -4.72663404 -1.89294793 -0.83026666]\n",
      "[-2.73693776 -2.00569628  0.2865212  -3.39772256 -1.55085937 -0.0746939\n",
      " -3.45006244 -2.66104713 -2.78936132 -2.85666328 -2.81003202 -2.37546682\n",
      " -4.47135584 -1.88228236 -0.87941486]\n"
     ]
    },
    {
     "data": {
      "text/plain": [
       "RandomForestRegressor(n_estimators=200, random_state=2021)"
      ]
     },
     "execution_count": 12,
     "metadata": {},
     "output_type": "execute_result"
    }
   ],
   "source": [
    "train_and_get_forest(x_train, y_train, x_test, y_test, csv=False)"
   ]
  },
  {
   "cell_type": "code",
   "execution_count": 13,
   "metadata": {},
   "outputs": [
    {
     "name": "stdout",
     "output_type": "stream",
     "text": [
      "0.6702359059229837\n",
      "[-2.52092848 -2.4814002  -0.87589846 -3.67290659 -1.59274065 -1.67955593\n",
      " -3.88357543 -2.47239182 -2.46624394 -3.06465181 -2.90239876 -1.93865574\n",
      " -4.01461774 -1.8390614  -0.98122661]\n",
      "[-2.73693776 -2.00569628  0.2865212  -3.39772256 -1.55085937 -0.0746939\n",
      " -3.45006244 -2.66104713 -2.78936132 -2.85666328 -2.81003202 -2.37546682\n",
      " -4.47135584 -1.88228236 -0.87941486]\n"
     ]
    },
    {
     "data": {
      "text/plain": [
       "GradientBoostingRegressor(learning_rate=0.05, max_depth=8, max_features='sqrt',\n",
       "                          min_samples_leaf=16, min_samples_split=8,\n",
       "                          n_estimators=200, random_state=2021)"
      ]
     },
     "execution_count": 13,
     "metadata": {},
     "output_type": "execute_result"
    }
   ],
   "source": [
    "train_and_get_gbr(x_train, y_train, x_test, y_test, csv=False)"
   ]
  }
 ],
 "metadata": {
  "interpreter": {
   "hash": "be83b15fca14b7eb97d243918907025bd08fd5fffe33df135e555109e311280c"
  },
  "kernelspec": {
   "display_name": "Python 3.7.11 64-bit ('pose': conda)",
   "name": "python3"
  },
  "language_info": {
   "codemirror_mode": {
    "name": "ipython",
    "version": 3
   },
   "file_extension": ".py",
   "mimetype": "text/x-python",
   "name": "python",
   "nbconvert_exporter": "python",
   "pygments_lexer": "ipython3",
   "version": "3.7.11"
  },
  "orig_nbformat": 4
 },
 "nbformat": 4,
 "nbformat_minor": 2
}
