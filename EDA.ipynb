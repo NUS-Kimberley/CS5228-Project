{
 "cells": [
  {
   "cell_type": "code",
   "execution_count": 159,
   "source": [
    "import numpy as np\n",
    "import matplotlib.pyplot as plt\n",
    "import pandas as pd"
   ],
   "outputs": [],
   "metadata": {}
  },
  {
   "cell_type": "code",
   "execution_count": 160,
   "source": [
    "%matplotlib inline"
   ],
   "outputs": [],
   "metadata": {}
  },
  {
   "cell_type": "code",
   "execution_count": 161,
   "source": [
    "car_resale_dataset = pd.read_csv(\"./data/train.csv\")\n",
    "car_resale_test = pd.read_csv(\"./data/test.csv\")\n",
    "car_resale_dataset.info()"
   ],
   "outputs": [
    {
     "output_type": "stream",
     "name": "stdout",
     "text": [
      "<class 'pandas.core.frame.DataFrame'>\n",
      "RangeIndex: 16784 entries, 0 to 16783\n",
      "Data columns (total 30 columns):\n",
      " #   Column             Non-Null Count  Dtype  \n",
      "---  ------             --------------  -----  \n",
      " 0   listing_id         16784 non-null  int64  \n",
      " 1   title              16784 non-null  object \n",
      " 2   make               14624 non-null  object \n",
      " 3   model              16784 non-null  object \n",
      " 4   description        16439 non-null  object \n",
      " 5   manufactured       16590 non-null  float64\n",
      " 6   original_reg_date  318 non-null    object \n",
      " 7   reg_date           16583 non-null  object \n",
      " 8   type_of_vehicle    16784 non-null  object \n",
      " 9   category           16784 non-null  object \n",
      " 10  transmission       16784 non-null  object \n",
      " 11  curb_weight        16205 non-null  float64\n",
      " 12  power              14447 non-null  float64\n",
      " 13  fuel_type          3490 non-null   object \n",
      " 14  engine_cap         16731 non-null  float64\n",
      " 15  no_of_owners       16608 non-null  float64\n",
      " 16  depreciation       16351 non-null  float64\n",
      " 17  coe                15893 non-null  float64\n",
      " 18  road_tax           14630 non-null  float64\n",
      " 19  dereg_value        15595 non-null  float64\n",
      " 20  mileage            13060 non-null  float64\n",
      " 21  omv                16743 non-null  float64\n",
      " 22  arf                16500 non-null  float64\n",
      " 23  opc_scheme         207 non-null    object \n",
      " 24  lifespan           1702 non-null   object \n",
      " 25  eco_category       16784 non-null  object \n",
      " 26  features           16325 non-null  object \n",
      " 27  accessories        13971 non-null  object \n",
      " 28  indicative_price   0 non-null      float64\n",
      " 29  price              16784 non-null  float64\n",
      "dtypes: float64(14), int64(1), object(15)\n",
      "memory usage: 3.8+ MB\n"
     ]
    }
   ],
   "metadata": {}
  },
  {
   "cell_type": "code",
   "execution_count": 162,
   "source": [
    "car_resale_dataset.head()"
   ],
   "outputs": [
    {
     "output_type": "execute_result",
     "data": {
      "text/html": [
       "<div>\n",
       "<style scoped>\n",
       "    .dataframe tbody tr th:only-of-type {\n",
       "        vertical-align: middle;\n",
       "    }\n",
       "\n",
       "    .dataframe tbody tr th {\n",
       "        vertical-align: top;\n",
       "    }\n",
       "\n",
       "    .dataframe thead th {\n",
       "        text-align: right;\n",
       "    }\n",
       "</style>\n",
       "<table border=\"1\" class=\"dataframe\">\n",
       "  <thead>\n",
       "    <tr style=\"text-align: right;\">\n",
       "      <th></th>\n",
       "      <th>listing_id</th>\n",
       "      <th>title</th>\n",
       "      <th>make</th>\n",
       "      <th>model</th>\n",
       "      <th>description</th>\n",
       "      <th>manufactured</th>\n",
       "      <th>original_reg_date</th>\n",
       "      <th>reg_date</th>\n",
       "      <th>type_of_vehicle</th>\n",
       "      <th>category</th>\n",
       "      <th>...</th>\n",
       "      <th>mileage</th>\n",
       "      <th>omv</th>\n",
       "      <th>arf</th>\n",
       "      <th>opc_scheme</th>\n",
       "      <th>lifespan</th>\n",
       "      <th>eco_category</th>\n",
       "      <th>features</th>\n",
       "      <th>accessories</th>\n",
       "      <th>indicative_price</th>\n",
       "      <th>price</th>\n",
       "    </tr>\n",
       "  </thead>\n",
       "  <tbody>\n",
       "    <tr>\n",
       "      <th>0</th>\n",
       "      <td>1030324</td>\n",
       "      <td>BMW 3 Series 320i Gran Turismo M-Sport</td>\n",
       "      <td>bmw</td>\n",
       "      <td>320i</td>\n",
       "      <td>1 owner! 320i gt m-sports model! big brake kit...</td>\n",
       "      <td>2013.0</td>\n",
       "      <td>NaN</td>\n",
       "      <td>09-dec-2013</td>\n",
       "      <td>luxury sedan</td>\n",
       "      <td>parf car, premium ad car, low mileage car</td>\n",
       "      <td>...</td>\n",
       "      <td>73000.0</td>\n",
       "      <td>45330.0</td>\n",
       "      <td>50462.0</td>\n",
       "      <td>NaN</td>\n",
       "      <td>NaN</td>\n",
       "      <td>uncategorized</td>\n",
       "      <td>5 doors gt, powerful and fuel efficient 2.0l t...</td>\n",
       "      <td>bmw i-drive, navigation, bluetooth/aux/usb inp...</td>\n",
       "      <td>NaN</td>\n",
       "      <td>71300.0</td>\n",
       "    </tr>\n",
       "    <tr>\n",
       "      <th>1</th>\n",
       "      <td>1021510</td>\n",
       "      <td>Toyota Hiace 3.0M</td>\n",
       "      <td>NaN</td>\n",
       "      <td>hiace</td>\n",
       "      <td>high loan available! low mileage unit. wear an...</td>\n",
       "      <td>2014.0</td>\n",
       "      <td>NaN</td>\n",
       "      <td>26-jan-2015</td>\n",
       "      <td>van</td>\n",
       "      <td>premium ad car</td>\n",
       "      <td>...</td>\n",
       "      <td>110112.0</td>\n",
       "      <td>27502.0</td>\n",
       "      <td>1376.0</td>\n",
       "      <td>NaN</td>\n",
       "      <td>25-jan-2035</td>\n",
       "      <td>uncategorized</td>\n",
       "      <td>low mileage unit. well maintained vehicle. vie...</td>\n",
       "      <td>factory radio setting. front recording camera....</td>\n",
       "      <td>NaN</td>\n",
       "      <td>43800.0</td>\n",
       "    </tr>\n",
       "    <tr>\n",
       "      <th>2</th>\n",
       "      <td>1026909</td>\n",
       "      <td>Mercedes-Benz CLA-Class CLA180</td>\n",
       "      <td>mercedes-benz</td>\n",
       "      <td>cla180</td>\n",
       "      <td>1 owner c&amp;c unit. full agent service with 1 mo...</td>\n",
       "      <td>2016.0</td>\n",
       "      <td>NaN</td>\n",
       "      <td>25-jul-2016</td>\n",
       "      <td>luxury sedan</td>\n",
       "      <td>parf car, premium ad car</td>\n",
       "      <td>...</td>\n",
       "      <td>80000.0</td>\n",
       "      <td>27886.0</td>\n",
       "      <td>26041.0</td>\n",
       "      <td>NaN</td>\n",
       "      <td>NaN</td>\n",
       "      <td>uncategorized</td>\n",
       "      <td>responsive and fuel efficient 1.6l inline 4 cy...</td>\n",
       "      <td>dual electric/memory seats. factory fitted aud...</td>\n",
       "      <td>NaN</td>\n",
       "      <td>95500.0</td>\n",
       "    </tr>\n",
       "    <tr>\n",
       "      <th>3</th>\n",
       "      <td>1019371</td>\n",
       "      <td>Mercedes-Benz E-Class E180 Avantgarde</td>\n",
       "      <td>mercedes-benz</td>\n",
       "      <td>e180</td>\n",
       "      <td>fully agent maintained, 3 years warranty 10 ye...</td>\n",
       "      <td>2019.0</td>\n",
       "      <td>NaN</td>\n",
       "      <td>17-nov-2020</td>\n",
       "      <td>luxury sedan</td>\n",
       "      <td>parf car, almost new car, consignment car</td>\n",
       "      <td>...</td>\n",
       "      <td>9800.0</td>\n",
       "      <td>46412.0</td>\n",
       "      <td>56977.0</td>\n",
       "      <td>NaN</td>\n",
       "      <td>NaN</td>\n",
       "      <td>uncategorized</td>\n",
       "      <td>1.5l inline-4 twin scroll turbocharged engine,...</td>\n",
       "      <td>64 colour ambient lighting. active parking ass...</td>\n",
       "      <td>NaN</td>\n",
       "      <td>197900.0</td>\n",
       "    </tr>\n",
       "    <tr>\n",
       "      <th>4</th>\n",
       "      <td>1031014</td>\n",
       "      <td>Honda Civic 1.6A VTi</td>\n",
       "      <td>NaN</td>\n",
       "      <td>civic</td>\n",
       "      <td>kah motor unit! 1 owner, lowest 1.98% for full...</td>\n",
       "      <td>2019.0</td>\n",
       "      <td>NaN</td>\n",
       "      <td>20-sep-2019</td>\n",
       "      <td>mid-sized sedan</td>\n",
       "      <td>parf car</td>\n",
       "      <td>...</td>\n",
       "      <td>40000.0</td>\n",
       "      <td>20072.0</td>\n",
       "      <td>20101.0</td>\n",
       "      <td>NaN</td>\n",
       "      <td>NaN</td>\n",
       "      <td>uncategorized</td>\n",
       "      <td>1.6l i-vtec engine, 123 bhp, earth dreams cvt ...</td>\n",
       "      <td>s/rims, premium leather seats, factory touch s...</td>\n",
       "      <td>NaN</td>\n",
       "      <td>103200.0</td>\n",
       "    </tr>\n",
       "  </tbody>\n",
       "</table>\n",
       "<p>5 rows × 30 columns</p>\n",
       "</div>"
      ],
      "text/plain": [
       "   listing_id                                   title           make   model  \\\n",
       "0     1030324  BMW 3 Series 320i Gran Turismo M-Sport            bmw    320i   \n",
       "1     1021510                       Toyota Hiace 3.0M            NaN   hiace   \n",
       "2     1026909          Mercedes-Benz CLA-Class CLA180  mercedes-benz  cla180   \n",
       "3     1019371   Mercedes-Benz E-Class E180 Avantgarde  mercedes-benz    e180   \n",
       "4     1031014                    Honda Civic 1.6A VTi            NaN   civic   \n",
       "\n",
       "                                         description  manufactured  \\\n",
       "0  1 owner! 320i gt m-sports model! big brake kit...        2013.0   \n",
       "1  high loan available! low mileage unit. wear an...        2014.0   \n",
       "2  1 owner c&c unit. full agent service with 1 mo...        2016.0   \n",
       "3  fully agent maintained, 3 years warranty 10 ye...        2019.0   \n",
       "4  kah motor unit! 1 owner, lowest 1.98% for full...        2019.0   \n",
       "\n",
       "  original_reg_date     reg_date  type_of_vehicle  \\\n",
       "0               NaN  09-dec-2013     luxury sedan   \n",
       "1               NaN  26-jan-2015              van   \n",
       "2               NaN  25-jul-2016     luxury sedan   \n",
       "3               NaN  17-nov-2020     luxury sedan   \n",
       "4               NaN  20-sep-2019  mid-sized sedan   \n",
       "\n",
       "                                    category  ...   mileage      omv      arf  \\\n",
       "0  parf car, premium ad car, low mileage car  ...   73000.0  45330.0  50462.0   \n",
       "1                             premium ad car  ...  110112.0  27502.0   1376.0   \n",
       "2                   parf car, premium ad car  ...   80000.0  27886.0  26041.0   \n",
       "3  parf car, almost new car, consignment car  ...    9800.0  46412.0  56977.0   \n",
       "4                                   parf car  ...   40000.0  20072.0  20101.0   \n",
       "\n",
       "  opc_scheme     lifespan   eco_category  \\\n",
       "0        NaN          NaN  uncategorized   \n",
       "1        NaN  25-jan-2035  uncategorized   \n",
       "2        NaN          NaN  uncategorized   \n",
       "3        NaN          NaN  uncategorized   \n",
       "4        NaN          NaN  uncategorized   \n",
       "\n",
       "                                            features  \\\n",
       "0  5 doors gt, powerful and fuel efficient 2.0l t...   \n",
       "1  low mileage unit. well maintained vehicle. vie...   \n",
       "2  responsive and fuel efficient 1.6l inline 4 cy...   \n",
       "3  1.5l inline-4 twin scroll turbocharged engine,...   \n",
       "4  1.6l i-vtec engine, 123 bhp, earth dreams cvt ...   \n",
       "\n",
       "                                         accessories  indicative_price  \\\n",
       "0  bmw i-drive, navigation, bluetooth/aux/usb inp...               NaN   \n",
       "1  factory radio setting. front recording camera....               NaN   \n",
       "2  dual electric/memory seats. factory fitted aud...               NaN   \n",
       "3  64 colour ambient lighting. active parking ass...               NaN   \n",
       "4  s/rims, premium leather seats, factory touch s...               NaN   \n",
       "\n",
       "      price  \n",
       "0   71300.0  \n",
       "1   43800.0  \n",
       "2   95500.0  \n",
       "3  197900.0  \n",
       "4  103200.0  \n",
       "\n",
       "[5 rows x 30 columns]"
      ]
     },
     "metadata": {},
     "execution_count": 162
    }
   ],
   "metadata": {}
  },
  {
   "cell_type": "code",
   "execution_count": 163,
   "source": [
    "car_resale_dataset.price.describe()"
   ],
   "outputs": [
    {
     "output_type": "execute_result",
     "data": {
      "text/plain": [
       "count    1.678400e+04\n",
       "mean     1.129102e+05\n",
       "std      1.342478e+05\n",
       "min      2.100000e+03\n",
       "25%      5.700000e+04\n",
       "50%      8.010000e+04\n",
       "75%      1.209250e+05\n",
       "max      2.920500e+06\n",
       "Name: price, dtype: float64"
      ]
     },
     "metadata": {},
     "execution_count": 163
    }
   ],
   "metadata": {}
  },
  {
   "cell_type": "code",
   "execution_count": 164,
   "source": [
    "import seaborn as sns\n",
    "sns.distplot(car_resale_dataset.price)"
   ],
   "outputs": [
    {
     "output_type": "stream",
     "name": "stderr",
     "text": [
      "/Users/Vincent/anaconda3/envs/d2l/lib/python3.8/site-packages/seaborn/distributions.py:2619: FutureWarning: `distplot` is a deprecated function and will be removed in a future version. Please adapt your code to use either `displot` (a figure-level function with similar flexibility) or `histplot` (an axes-level function for histograms).\n",
      "  warnings.warn(msg, FutureWarning)\n"
     ]
    },
    {
     "output_type": "execute_result",
     "data": {
      "text/plain": [
       "<AxesSubplot:xlabel='price', ylabel='Density'>"
      ]
     },
     "metadata": {},
     "execution_count": 164
    },
    {
     "output_type": "display_data",
     "data": {
      "image/png": "[encoded data removed]",
      "text/plain": [
       "<Figure size 432x288 with 1 Axes>"
      ]
     },
     "metadata": {
      "needs_background": "light"
     }
    }
   ],
   "metadata": {}
  },
  {
   "cell_type": "code",
   "execution_count": 165,
   "source": [
    "corrmat = car_resale_dataset.corr()\n",
    "f, ax = plt.subplots(figsize=(12, 9))\n",
    "sns.heatmap(corrmat, vmax=.8, square=True);"
   ],
   "outputs": [
    {
     "output_type": "display_data",
     "data": {
      "image/png": "[encoded data removed]",
      "text/plain": [
       "<Figure size 864x648 with 2 Axes>"
      ]
     },
     "metadata": {
      "needs_background": "light"
     }
    }
   ],
   "metadata": {}
  },
  {
   "cell_type": "code",
   "execution_count": 166,
   "source": [
    "car_resale_dataset.make.unique(),car_resale_dataset.make.value_counts()"
   ],
   "outputs": [
    {
     "output_type": "execute_result",
     "data": {
      "text/plain": [
       "(array(['bmw', nan, 'mercedes-benz', 'volvo', 'kia', 'honda', 'nissan',\n",
       "        'toyota', 'mazda', 'ferrari', 'volkswagen', 'jaguar', 'opel',\n",
       "        'mini', 'suzuki', 'porsche', 'lexus', 'lamborghini', 'audi',\n",
       "        'proton', 'hyundai', 'bentley', 'citroen', 'maserati',\n",
       "        'alfa romeo', 'mitsubishi', 'fiat', 'tesla', 'hino', 'skoda',\n",
       "        'land rover', 'rolls-royce', 'mclaren', 'ssangyong', 'renault',\n",
       "        'peugeot', 'subaru', 'isuzu', 'infiniti', 'chevrolet', 'dongfeng',\n",
       "        'cupra', 'ford', 'yutong', 'golden dragon', 'dodge', 'mercedes',\n",
       "        'seat', 'maxus', 'austin', 'mg', 'morris', 'perodua', 'byd',\n",
       "        'rover', 'jeep', 'ud', 'aston martin', 'scania', 'international',\n",
       "        'daf', 'alpine', 'daihatsu', 'lotus', 'hafei', 'chery', 'foton',\n",
       "        'saab', 'hummer', 'iveco', 'riley', 'daimler', 'ruf', 'higer',\n",
       "        'chrysler', 'man', 'joylong', 'mitsuoka'], dtype=object),\n",
       " toyota           2163\n",
       " mercedes-benz    1967\n",
       " bmw              1636\n",
       " honda            1519\n",
       " nissan           1091\n",
       "                  ... \n",
       " joylong             1\n",
       " chery               1\n",
       " daf                 1\n",
       " dongfeng            1\n",
       " rover               1\n",
       " Name: make, Length: 77, dtype: int64)"
      ]
     },
     "metadata": {},
     "execution_count": 166
    }
   ],
   "metadata": {}
  },
  {
   "cell_type": "code",
   "execution_count": 167,
   "source": [
    "car_resale_dataset.groupby(\"make\").model.value_counts()"
   ],
   "outputs": [
    {
     "output_type": "execute_result",
     "data": {
      "text/plain": [
       "make        model    \n",
       "alfa romeo  giulia       5\n",
       "            spider       4\n",
       "            giulietta    2\n",
       "            159          1\n",
       "            a156         1\n",
       "                        ..\n",
       "volvo       p1800        1\n",
       "            s40          1\n",
       "            v50          1\n",
       "yutong      zk6100h      1\n",
       "            zk6938h      1\n",
       "Name: model, Length: 696, dtype: int64"
      ]
     },
     "metadata": {},
     "execution_count": 167
    }
   ],
   "metadata": {}
  },
  {
   "cell_type": "code",
   "execution_count": 168,
   "source": [
    "def draw_column(column, x_label, y_label):\n",
    "    plt.figure()\n",
    "    plt.tick_params(labelsize=14)\n",
    "    plt.hist(column.to_numpy(), bins=75)\n",
    "    plt.xlabel(x_label, fontsize=16)\n",
    "    plt.ylabel(y_label, fontsize=16)\n",
    "    plt.tight_layout()\n",
    "    plt.show()\n",
    "\n",
    "draw_column(car_resale_dataset.manufactured, 'manufactured', 'count')\n",
    "print(car_resale_dataset[car_resale_dataset.manufactured > 2021].manufactured)\n",
    "car_resale_dataset_cleaned = car_resale_dataset[car_resale_dataset.manufactured <= 2021]\n",
    "draw_column(car_resale_dataset_cleaned.manufactured, 'manufactured', 'count')\n",
    "car_resale_dataset_cleaned[car_resale_dataset_cleaned.manufactured == car_resale_dataset_cleaned.manufactured.min()]"
   ],
   "outputs": [
    {
     "output_type": "display_data",
     "data": {
      "image/png": "[encoded data removed]",
      "text/plain": [
       "<Figure size 432x288 with 1 Axes>"
      ]
     },
     "metadata": {
      "needs_background": "light"
     }
    },
    {
     "output_type": "stream",
     "name": "stdout",
     "text": [
      "6300    2925.0\n",
      "Name: manufactured, dtype: float64\n"
     ]
    },
    {
     "output_type": "display_data",
     "data": {
      "image/png": "[encoded data removed]",
      "text/plain": [
       "<Figure size 432x288 with 1 Axes>"
      ]
     },
     "metadata": {
      "needs_background": "light"
     }
    },
    {
     "output_type": "execute_result",
     "data": {
      "text/html": [
       "<div>\n",
       "<style scoped>\n",
       "    .dataframe tbody tr th:only-of-type {\n",
       "        vertical-align: middle;\n",
       "    }\n",
       "\n",
       "    .dataframe tbody tr th {\n",
       "        vertical-align: top;\n",
       "    }\n",
       "\n",
       "    .dataframe thead th {\n",
       "        text-align: right;\n",
       "    }\n",
       "</style>\n",
       "<table border=\"1\" class=\"dataframe\">\n",
       "  <thead>\n",
       "    <tr style=\"text-align: right;\">\n",
       "      <th></th>\n",
       "      <th>listing_id</th>\n",
       "      <th>title</th>\n",
       "      <th>make</th>\n",
       "      <th>model</th>\n",
       "      <th>description</th>\n",
       "      <th>manufactured</th>\n",
       "      <th>original_reg_date</th>\n",
       "      <th>reg_date</th>\n",
       "      <th>type_of_vehicle</th>\n",
       "      <th>category</th>\n",
       "      <th>...</th>\n",
       "      <th>mileage</th>\n",
       "      <th>omv</th>\n",
       "      <th>arf</th>\n",
       "      <th>opc_scheme</th>\n",
       "      <th>lifespan</th>\n",
       "      <th>eco_category</th>\n",
       "      <th>features</th>\n",
       "      <th>accessories</th>\n",
       "      <th>indicative_price</th>\n",
       "      <th>price</th>\n",
       "    </tr>\n",
       "  </thead>\n",
       "  <tbody>\n",
       "    <tr>\n",
       "      <th>854</th>\n",
       "      <td>1013834</td>\n",
       "      <td>Ford Tudor 1933 (COE till 08/2029)</td>\n",
       "      <td>ford</td>\n",
       "      <td>tudor</td>\n",
       "      <td>second owner, frame off restoration by us lege...</td>\n",
       "      <td>1933.0</td>\n",
       "      <td>01-jan-1933</td>\n",
       "      <td>26-aug-2009</td>\n",
       "      <td>others</td>\n",
       "      <td>coe car, direct owner sale, low mileage car, v...</td>\n",
       "      <td>...</td>\n",
       "      <td>88000.0</td>\n",
       "      <td>28726.0</td>\n",
       "      <td>2873.0</td>\n",
       "      <td>NaN</td>\n",
       "      <td>NaN</td>\n",
       "      <td>uncategorized</td>\n",
       "      <td>ford flathead v8 with twin stromberg carbs, aw...</td>\n",
       "      <td>price reduced, steering wheel, brakes, whoop w...</td>\n",
       "      <td>NaN</td>\n",
       "      <td>96800.0</td>\n",
       "    </tr>\n",
       "  </tbody>\n",
       "</table>\n",
       "<p>1 rows × 30 columns</p>\n",
       "</div>"
      ],
      "text/plain": [
       "     listing_id                               title  make  model  \\\n",
       "854     1013834  Ford Tudor 1933 (COE till 08/2029)  ford  tudor   \n",
       "\n",
       "                                           description  manufactured  \\\n",
       "854  second owner, frame off restoration by us lege...        1933.0   \n",
       "\n",
       "    original_reg_date     reg_date type_of_vehicle  \\\n",
       "854       01-jan-1933  26-aug-2009          others   \n",
       "\n",
       "                                              category  ...  mileage      omv  \\\n",
       "854  coe car, direct owner sale, low mileage car, v...  ...  88000.0  28726.0   \n",
       "\n",
       "        arf opc_scheme  lifespan   eco_category  \\\n",
       "854  2873.0        NaN       NaN  uncategorized   \n",
       "\n",
       "                                              features  \\\n",
       "854  ford flathead v8 with twin stromberg carbs, aw...   \n",
       "\n",
       "                                           accessories  indicative_price  \\\n",
       "854  price reduced, steering wheel, brakes, whoop w...               NaN   \n",
       "\n",
       "       price  \n",
       "854  96800.0  \n",
       "\n",
       "[1 rows x 30 columns]"
      ]
     },
     "metadata": {},
     "execution_count": 168
    }
   ],
   "metadata": {}
  },
  {
   "cell_type": "code",
   "execution_count": 169,
   "source": [
    "def draw_two_col(X, Y, X_label, Y_label):\n",
    "    plt.figure()\n",
    "    plt.tick_params(labelsize=14)\n",
    "    plt.scatter(X, Y)\n",
    "    plt.xlabel(X_label, fontsize=16)\n",
    "    plt.ylabel(Y_label, fontsize=16)\n",
    "    plt.tight_layout()\n",
    "    plt.show()\n",
    "\n",
    "draw_two_col(car_resale_dataset_cleaned.manufactured, car_resale_dataset_cleaned.price, \"manufactured\", \"price\")"
   ],
   "outputs": [
    {
     "output_type": "display_data",
     "data": {
      "image/png": "[encoded data removed]",
      "text/plain": [
       "<Figure size 432x288 with 1 Axes>"
      ]
     },
     "metadata": {
      "needs_background": "light"
     }
    }
   ],
   "metadata": {}
  },
  {
   "cell_type": "code",
   "execution_count": 170,
   "source": [
    "draw_column(car_resale_dataset_cleaned.curb_weight, 'curb_weight', 'count')\n",
    "print(car_resale_dataset_cleaned[car_resale_dataset_cleaned.curb_weight == car_resale_dataset_cleaned.curb_weight.max()].curb_weight)\n",
    "print(car_resale_dataset_cleaned[car_resale_dataset_cleaned.curb_weight == car_resale_dataset_cleaned.curb_weight.max()])\n",
    "draw_two_col(car_resale_dataset_cleaned.curb_weight, car_resale_dataset_cleaned.price, \"curb_weight\", \"price\")"
   ],
   "outputs": [
    {
     "output_type": "display_data",
     "data": {
      "image/png": "[encoded data removed]",
      "text/plain": [
       "<Figure size 432x288 with 1 Axes>"
      ]
     },
     "metadata": {
      "needs_background": "light"
     }
    },
    {
     "output_type": "stream",
     "name": "stdout",
     "text": [
      "6427    20980.0\n",
      "Name: curb_weight, dtype: float64\n",
      "      listing_id                           title    make model  \\\n",
      "6427     1030586  Scania P124 (COE till 10/2025)  scania  p124   \n",
      "\n",
      "                                description  manufactured original_reg_date  \\\n",
      "6427  left 4 year to use, high scrap value.        2005.0               NaN   \n",
      "\n",
      "         reg_date type_of_vehicle                    category  ... mileage  \\\n",
      "6427  13-oct-2005           truck  coe car, direct owner sale  ...     NaN   \n",
      "\n",
      "           omv     arf opc_scheme     lifespan   eco_category  features  \\\n",
      "6427  119320.0  5966.0        NaN  12-oct-2025  uncategorized       NaN   \n",
      "\n",
      "      accessories  indicative_price     price  \n",
      "6427          NaN               NaN  149500.0  \n",
      "\n",
      "[1 rows x 30 columns]\n"
     ]
    },
    {
     "output_type": "display_data",
     "data": {
      "image/png": "[encoded data removed]",
      "text/plain": [
       "<Figure size 432x288 with 1 Axes>"
      ]
     },
     "metadata": {
      "needs_background": "light"
     }
    }
   ],
   "metadata": {}
  },
  {
   "cell_type": "code",
   "execution_count": 171,
   "source": [
    "draw_column(car_resale_dataset_cleaned.power, 'power', 'count')\n",
    "print(car_resale_dataset_cleaned[car_resale_dataset_cleaned.power == car_resale_dataset_cleaned.power.max()].power)\n",
    "draw_two_col(car_resale_dataset_cleaned.power, car_resale_dataset_cleaned.price, \"power\", \"price\")"
   ],
   "outputs": [
    {
     "output_type": "display_data",
     "data": {
      "image/png": "[encoded data removed]",
      "text/plain": [
       "<Figure size 432x288 with 1 Axes>"
      ]
     },
     "metadata": {
      "needs_background": "light"
     }
    },
    {
     "output_type": "stream",
     "name": "stdout",
     "text": [
      "1433     552.0\n",
      "4818     552.0\n",
      "11865    552.0\n",
      "Name: power, dtype: float64\n"
     ]
    },
    {
     "output_type": "display_data",
     "data": {
      "image/png": "[encoded data removed]",
      "text/plain": [
       "<Figure size 432x288 with 1 Axes>"
      ]
     },
     "metadata": {
      "needs_background": "light"
     }
    }
   ],
   "metadata": {}
  },
  {
   "cell_type": "code",
   "execution_count": 172,
   "source": [
    "car_resale_dataset.type_of_vehicle.value_counts()"
   ],
   "outputs": [
    {
     "output_type": "execute_result",
     "data": {
      "text/plain": [
       "suv                3104\n",
       "luxury sedan       3059\n",
       "mid-sized sedan    2634\n",
       "sports car         2024\n",
       "hatchback          1828\n",
       "mpv                1821\n",
       "van                1076\n",
       "truck               751\n",
       "stationwagon        352\n",
       "bus/mini bus        107\n",
       "others               28\n",
       "Name: type_of_vehicle, dtype: int64"
      ]
     },
     "metadata": {},
     "execution_count": 172
    }
   ],
   "metadata": {}
  },
  {
   "cell_type": "code",
   "execution_count": 173,
   "source": [
    "car_resale_dataset.category.head()"
   ],
   "outputs": [
    {
     "output_type": "execute_result",
     "data": {
      "text/plain": [
       "0    parf car, premium ad car, low mileage car\n",
       "1                               premium ad car\n",
       "2                     parf car, premium ad car\n",
       "3    parf car, almost new car, consignment car\n",
       "4                                     parf car\n",
       "Name: category, dtype: object"
      ]
     },
     "metadata": {},
     "execution_count": 173
    }
   ],
   "metadata": {}
  },
  {
   "cell_type": "code",
   "execution_count": 174,
   "source": [
    "car_resale_dataset.transmission.value_counts()"
   ],
   "outputs": [
    {
     "output_type": "execute_result",
     "data": {
      "text/plain": [
       "auto      15121\n",
       "manual     1663\n",
       "Name: transmission, dtype: int64"
      ]
     },
     "metadata": {},
     "execution_count": 174
    }
   ],
   "metadata": {}
  },
  {
   "cell_type": "code",
   "execution_count": 175,
   "source": [
    "car_resale_dataset.fuel_type.value_counts()"
   ],
   "outputs": [
    {
     "output_type": "execute_result",
     "data": {
      "text/plain": [
       "diesel             2088\n",
       "petrol-electric    1041\n",
       "petrol              308\n",
       "electric             53\n",
       "Name: fuel_type, dtype: int64"
      ]
     },
     "metadata": {},
     "execution_count": 175
    }
   ],
   "metadata": {}
  },
  {
   "cell_type": "code",
   "execution_count": 176,
   "source": [
    "car_resale_dataset_cleaned.groupby([\"fuel_type\"]).price.mean()"
   ],
   "outputs": [
    {
     "output_type": "execute_result",
     "data": {
      "text/plain": [
       "fuel_type\n",
       "diesel              71372.015466\n",
       "electric           195084.000000\n",
       "petrol              59645.454545\n",
       "petrol-electric    135492.193676\n",
       "Name: price, dtype: float64"
      ]
     },
     "metadata": {},
     "execution_count": 176
    }
   ],
   "metadata": {}
  },
  {
   "cell_type": "code",
   "execution_count": 177,
   "source": [
    "draw_column(car_resale_dataset_cleaned.engine_cap, 'engine_cap', 'count')\n",
    "print(car_resale_dataset_cleaned[car_resale_dataset_cleaned.engine_cap == car_resale_dataset_cleaned.engine_cap.max()].engine_cap)\n",
    "draw_two_col(car_resale_dataset_cleaned.engine_cap, car_resale_dataset_cleaned.price, \"engine_cap\", \"price\")"
   ],
   "outputs": [
    {
     "output_type": "display_data",
     "data": {
      "image/png": "[encoded data removed]",
      "text/plain": [
       "<Figure size 432x288 with 1 Axes>"
      ]
     },
     "metadata": {
      "needs_background": "light"
     }
    },
    {
     "output_type": "stream",
     "name": "stdout",
     "text": [
      "767      15681.0\n",
      "1334     15681.0\n",
      "1391     15681.0\n",
      "1663     15681.0\n",
      "3448     15681.0\n",
      "3984     15681.0\n",
      "4015     15681.0\n",
      "6155     15681.0\n",
      "6674     15681.0\n",
      "8954     15681.0\n",
      "10742    15681.0\n",
      "12003    15681.0\n",
      "12967    15681.0\n",
      "13154    15681.0\n",
      "13702    15681.0\n",
      "14825    15681.0\n",
      "15310    15681.0\n",
      "15996    15681.0\n",
      "Name: engine_cap, dtype: float64\n"
     ]
    },
    {
     "output_type": "display_data",
     "data": {
      "image/png": "[encoded data removed]",
      "text/plain": [
       "<Figure size 432x288 with 1 Axes>"
      ]
     },
     "metadata": {
      "needs_background": "light"
     }
    }
   ],
   "metadata": {}
  },
  {
   "cell_type": "code",
   "execution_count": 178,
   "source": [
    "draw_column(car_resale_dataset_cleaned.no_of_owners, 'no_of_owners', 'count')\n",
    "print(car_resale_dataset_cleaned[car_resale_dataset_cleaned.no_of_owners == car_resale_dataset_cleaned.no_of_owners.max()].no_of_owners)\n",
    "draw_two_col(car_resale_dataset_cleaned.no_of_owners, car_resale_dataset_cleaned.price, \"no_of_owners\", \"price\")\n",
    "print(car_resale_dataset_cleaned[car_resale_dataset_cleaned.no_of_owners == 3 ].price.max())"
   ],
   "outputs": [
    {
     "output_type": "display_data",
     "data": {
      "image/png": "[encoded data removed]",
      "text/plain": [
       "<Figure size 432x288 with 1 Axes>"
      ]
     },
     "metadata": {
      "needs_background": "light"
     }
    },
    {
     "output_type": "stream",
     "name": "stdout",
     "text": [
      "45       6.0\n",
      "46       6.0\n",
      "54       6.0\n",
      "99       6.0\n",
      "103      6.0\n",
      "        ... \n",
      "16740    6.0\n",
      "16743    6.0\n",
      "16753    6.0\n",
      "16760    6.0\n",
      "16762    6.0\n",
      "Name: no_of_owners, Length: 638, dtype: float64\n"
     ]
    },
    {
     "output_type": "display_data",
     "data": {
      "image/png": "[encoded data removed]",
      "text/plain": [
       "<Figure size 432x288 with 1 Axes>"
      ]
     },
     "metadata": {
      "needs_background": "light"
     }
    },
    {
     "output_type": "stream",
     "name": "stdout",
     "text": [
      "2200000.0\n"
     ]
    }
   ],
   "metadata": {}
  },
  {
   "cell_type": "code",
   "execution_count": 179,
   "source": [
    "draw_column(car_resale_dataset_cleaned.depreciation, 'depreciation', 'count')\n",
    "print(car_resale_dataset_cleaned[(car_resale_dataset_cleaned.depreciation > car_resale_dataset_cleaned.coe) & (car_resale_dataset_cleaned.depreciation > car_resale_dataset_cleaned.price)][[\"depreciation\",\"price\",\"omv\", \"coe\"]])\n",
    "draw_two_col(car_resale_dataset_cleaned.depreciation, car_resale_dataset_cleaned.price, \"depreciation\", \"price\")"
   ],
   "outputs": [
    {
     "output_type": "display_data",
     "data": {
      "image/png": "[encoded data removed]",
      "text/plain": [
       "<Figure size 432x288 with 1 Axes>"
      ]
     },
     "metadata": {
      "needs_background": "light"
     }
    },
    {
     "output_type": "stream",
     "name": "stdout",
     "text": [
      "       depreciation     price       omv      coe\n",
      "1550        68030.0   48200.0   82257.0  26004.0\n",
      "2934       393610.0  317700.0  116055.0  82003.0\n",
      "6789        39120.0   36100.0   73605.0  18757.0\n",
      "7257        28390.0   18500.0   24285.0  24394.0\n",
      "7566        39120.0   36100.0   73956.0  18757.0\n",
      "8996        29480.0   26000.0       NaN   6022.0\n",
      "9480        53560.0   42800.0   96951.0  26246.0\n",
      "9795       662740.0  658900.0  370031.0  80101.0\n",
      "10710      157010.0  115600.0   49335.0  73801.0\n",
      "11365      117110.0   66000.0       NaN   7174.0\n",
      "11604       21080.0   20800.0   24590.0  17035.0\n",
      "11710       43440.0   26200.0   32688.0  24394.0\n",
      "12352       20210.0   18200.0   24285.0  18757.0\n",
      "12451       28430.0   27500.0   68291.0  17035.0\n",
      "13839      865610.0  682000.0  319840.0  73890.0\n",
      "14919      448890.0  335500.0  207408.0  74513.0\n"
     ]
    },
    {
     "output_type": "display_data",
     "data": {
      "image/png": "[encoded data removed]",
      "text/plain": [
       "<Figure size 432x288 with 1 Axes>"
      ]
     },
     "metadata": {
      "needs_background": "light"
     }
    }
   ],
   "metadata": {}
  },
  {
   "cell_type": "code",
   "execution_count": 180,
   "source": [
    "draw_column(car_resale_dataset_cleaned.road_tax, 'road_tax', 'count')\n",
    "draw_two_col(car_resale_dataset_cleaned.road_tax, car_resale_dataset_cleaned.engine_cap, \"road_tax\", \"engine_cap\")\n",
    "car_resale_dataset_cleaned[car_resale_dataset_cleaned.engine_cap > 20 * car_resale_dataset_cleaned.road_tax][[\"engine_cap\", \"road_tax\"]]"
   ],
   "outputs": [
    {
     "output_type": "display_data",
     "data": {
      "image/png": "[encoded data removed]",
      "text/plain": [
       "<Figure size 432x288 with 1 Axes>"
      ]
     },
     "metadata": {
      "needs_background": "light"
     }
    },
    {
     "output_type": "display_data",
     "data": {
      "image/png": "[encoded data removed]",
      "text/plain": [
       "<Figure size 432x288 with 1 Axes>"
      ]
     },
     "metadata": {
      "needs_background": "light"
     }
    },
    {
     "output_type": "execute_result",
     "data": {
      "text/html": [
       "<div>\n",
       "<style scoped>\n",
       "    .dataframe tbody tr th:only-of-type {\n",
       "        vertical-align: middle;\n",
       "    }\n",
       "\n",
       "    .dataframe tbody tr th {\n",
       "        vertical-align: top;\n",
       "    }\n",
       "\n",
       "    .dataframe thead th {\n",
       "        text-align: right;\n",
       "    }\n",
       "</style>\n",
       "<table border=\"1\" class=\"dataframe\">\n",
       "  <thead>\n",
       "    <tr style=\"text-align: right;\">\n",
       "      <th></th>\n",
       "      <th>engine_cap</th>\n",
       "      <th>road_tax</th>\n",
       "    </tr>\n",
       "  </thead>\n",
       "  <tbody>\n",
       "    <tr>\n",
       "      <th>1636</th>\n",
       "      <td>1591.0</td>\n",
       "      <td>50.0</td>\n",
       "    </tr>\n",
       "    <tr>\n",
       "      <th>2523</th>\n",
       "      <td>1591.0</td>\n",
       "      <td>50.0</td>\n",
       "    </tr>\n",
       "    <tr>\n",
       "      <th>13806</th>\n",
       "      <td>1591.0</td>\n",
       "      <td>50.0</td>\n",
       "    </tr>\n",
       "  </tbody>\n",
       "</table>\n",
       "</div>"
      ],
      "text/plain": [
       "       engine_cap  road_tax\n",
       "1636       1591.0      50.0\n",
       "2523       1591.0      50.0\n",
       "13806      1591.0      50.0"
      ]
     },
     "metadata": {},
     "execution_count": 180
    }
   ],
   "metadata": {}
  },
  {
   "cell_type": "code",
   "execution_count": 181,
   "source": [
    "draw_two_col(car_resale_dataset_cleaned.dereg_value, car_resale_dataset_cleaned.price, \"dereg_value\", \"price\")"
   ],
   "outputs": [
    {
     "output_type": "display_data",
     "data": {
      "image/png": "[encoded data removed]",
      "text/plain": [
       "<Figure size 432x288 with 1 Axes>"
      ]
     },
     "metadata": {
      "needs_background": "light"
     }
    }
   ],
   "metadata": {}
  },
  {
   "cell_type": "code",
   "execution_count": 182,
   "source": [
    "draw_two_col(car_resale_dataset_cleaned.mileage, car_resale_dataset_cleaned.price, \"mileage\", \"price\")\n",
    "car_resale_dataset_cleaned.mileage.max()"
   ],
   "outputs": [
    {
     "output_type": "display_data",
     "data": {
      "image/png": "[encoded data removed]",
      "text/plain": [
       "<Figure size 432x288 with 1 Axes>"
      ]
     },
     "metadata": {
      "needs_background": "light"
     }
    },
    {
     "output_type": "execute_result",
     "data": {
      "text/plain": [
       "740459.0"
      ]
     },
     "metadata": {},
     "execution_count": 182
    }
   ],
   "metadata": {}
  },
  {
   "cell_type": "code",
   "execution_count": 183,
   "source": [
    "draw_two_col(car_resale_dataset_cleaned.omv, car_resale_dataset_cleaned.price, \"omv\", \"price\")"
   ],
   "outputs": [
    {
     "output_type": "display_data",
     "data": {
      "image/png": "[encoded data removed]",
      "text/plain": [
       "<Figure size 432x288 with 1 Axes>"
      ]
     },
     "metadata": {
      "needs_background": "light"
     }
    }
   ],
   "metadata": {}
  },
  {
   "cell_type": "code",
   "execution_count": 184,
   "source": [
    "draw_two_col(car_resale_dataset_cleaned.arf, car_resale_dataset_cleaned.price, \"arf\", \"price\")"
   ],
   "outputs": [
    {
     "output_type": "display_data",
     "data": {
      "image/png": "[encoded data removed]",
      "text/plain": [
       "<Figure size 432x288 with 1 Axes>"
      ]
     },
     "metadata": {
      "needs_background": "light"
     }
    }
   ],
   "metadata": {}
  },
  {
   "cell_type": "code",
   "execution_count": 185,
   "source": [
    "car_resale_dataset_cleaned.eco_category.value_counts()"
   ],
   "outputs": [
    {
     "output_type": "execute_result",
     "data": {
      "text/plain": [
       "uncategorized    16589\n",
       "Name: eco_category, dtype: int64"
      ]
     },
     "metadata": {},
     "execution_count": 185
    }
   ],
   "metadata": {}
  },
  {
   "cell_type": "code",
   "execution_count": 186,
   "source": [
    "selected_features = [\"make\",\"model\",\"manufactured\",\"reg_date\",\"type_of_vehicle\",\"category\",\"transmission\",\"curb_weight\",\"power\",\"fuel_type\",\n",
    "                     \"engine_cap\",\"no_of_owners\",\"depreciation\",\"coe\",\"road_tax\",\"dereg_value\",\"mileage\",\"omv\",\"arf\"]\n",
    "car_resale_dataset_selected = car_resale_dataset_cleaned[selected_features]\n",
    "car_resale_test_selected = car_resale_test[selected_features]\n",
    "car_resale_price = car_resale_dataset_cleaned[\"price\"]\n",
    "car_resale_dataset_selected.shape\n",
    "car_resale_dataset_selected.info()\n",
    "car_resale_dataset_selected.describe()"
   ],
   "outputs": [
    {
     "output_type": "stream",
     "name": "stdout",
     "text": [
      "<class 'pandas.core.frame.DataFrame'>\n",
      "Int64Index: 16589 entries, 0 to 16783\n",
      "Data columns (total 19 columns):\n",
      " #   Column           Non-Null Count  Dtype  \n",
      "---  ------           --------------  -----  \n",
      " 0   make             14467 non-null  object \n",
      " 1   model            16589 non-null  object \n",
      " 2   manufactured     16589 non-null  float64\n",
      " 3   reg_date         16574 non-null  object \n",
      " 4   type_of_vehicle  16589 non-null  object \n",
      " 5   category         16589 non-null  object \n",
      " 6   transmission     16589 non-null  object \n",
      " 7   curb_weight      16200 non-null  float64\n",
      " 8   power            14410 non-null  float64\n",
      " 9   fuel_type        3439 non-null   object \n",
      " 10  engine_cap       16539 non-null  float64\n",
      " 11  no_of_owners     16572 non-null  float64\n",
      " 12  depreciation     16344 non-null  float64\n",
      " 13  coe              15702 non-null  float64\n",
      " 14  road_tax         14472 non-null  float64\n",
      " 15  dereg_value      15590 non-null  float64\n",
      " 16  mileage          12935 non-null  float64\n",
      " 17  omv              16553 non-null  float64\n",
      " 18  arf              16494 non-null  float64\n",
      "dtypes: float64(12), object(7)\n",
      "memory usage: 2.5+ MB\n"
     ]
    },
    {
     "output_type": "execute_result",
     "data": {
      "text/html": [
       "<div>\n",
       "<style scoped>\n",
       "    .dataframe tbody tr th:only-of-type {\n",
       "        vertical-align: middle;\n",
       "    }\n",
       "\n",
       "    .dataframe tbody tr th {\n",
       "        vertical-align: top;\n",
       "    }\n",
       "\n",
       "    .dataframe thead th {\n",
       "        text-align: right;\n",
       "    }\n",
       "</style>\n",
       "<table border=\"1\" class=\"dataframe\">\n",
       "  <thead>\n",
       "    <tr style=\"text-align: right;\">\n",
       "      <th></th>\n",
       "      <th>manufactured</th>\n",
       "      <th>curb_weight</th>\n",
       "      <th>power</th>\n",
       "      <th>engine_cap</th>\n",
       "      <th>no_of_owners</th>\n",
       "      <th>depreciation</th>\n",
       "      <th>coe</th>\n",
       "      <th>road_tax</th>\n",
       "      <th>dereg_value</th>\n",
       "      <th>mileage</th>\n",
       "      <th>omv</th>\n",
       "      <th>arf</th>\n",
       "    </tr>\n",
       "  </thead>\n",
       "  <tbody>\n",
       "    <tr>\n",
       "      <th>count</th>\n",
       "      <td>16589.000000</td>\n",
       "      <td>16200.000000</td>\n",
       "      <td>14410.000000</td>\n",
       "      <td>16539.000000</td>\n",
       "      <td>16572.000000</td>\n",
       "      <td>16344.000000</td>\n",
       "      <td>15702.000000</td>\n",
       "      <td>14472.000000</td>\n",
       "      <td>15590.000000</td>\n",
       "      <td>12935.000000</td>\n",
       "      <td>16553.000000</td>\n",
       "      <td>16494.000000</td>\n",
       "    </tr>\n",
       "    <tr>\n",
       "      <th>mean</th>\n",
       "      <td>2014.157514</td>\n",
       "      <td>1554.550926</td>\n",
       "      <td>133.668078</td>\n",
       "      <td>2075.391559</td>\n",
       "      <td>2.035421</td>\n",
       "      <td>14484.371635</td>\n",
       "      <td>41823.619921</td>\n",
       "      <td>1341.512369</td>\n",
       "      <td>44184.926042</td>\n",
       "      <td>73207.974874</td>\n",
       "      <td>38194.146922</td>\n",
       "      <td>38619.728507</td>\n",
       "    </tr>\n",
       "    <tr>\n",
       "      <th>std</th>\n",
       "      <td>5.189799</td>\n",
       "      <td>820.521788</td>\n",
       "      <td>73.930180</td>\n",
       "      <td>1118.392226</td>\n",
       "      <td>1.362980</td>\n",
       "      <td>19369.382210</td>\n",
       "      <td>16026.840203</td>\n",
       "      <td>1162.448086</td>\n",
       "      <td>42796.367937</td>\n",
       "      <td>50757.249439</td>\n",
       "      <td>42005.805292</td>\n",
       "      <td>59742.614184</td>\n",
       "    </tr>\n",
       "    <tr>\n",
       "      <th>min</th>\n",
       "      <td>1933.000000</td>\n",
       "      <td>2.000000</td>\n",
       "      <td>40.500000</td>\n",
       "      <td>0.000000</td>\n",
       "      <td>1.000000</td>\n",
       "      <td>2680.000000</td>\n",
       "      <td>10.000000</td>\n",
       "      <td>50.000000</td>\n",
       "      <td>97.000000</td>\n",
       "      <td>1.000000</td>\n",
       "      <td>1931.000000</td>\n",
       "      <td>63.000000</td>\n",
       "    </tr>\n",
       "    <tr>\n",
       "      <th>25%</th>\n",
       "      <td>2011.000000</td>\n",
       "      <td>1280.000000</td>\n",
       "      <td>90.000000</td>\n",
       "      <td>1497.000000</td>\n",
       "      <td>1.000000</td>\n",
       "      <td>8630.000000</td>\n",
       "      <td>31803.000000</td>\n",
       "      <td>684.000000</td>\n",
       "      <td>24980.500000</td>\n",
       "      <td>33906.500000</td>\n",
       "      <td>19134.000000</td>\n",
       "      <td>12612.750000</td>\n",
       "    </tr>\n",
       "    <tr>\n",
       "      <th>50%</th>\n",
       "      <td>2016.000000</td>\n",
       "      <td>1440.000000</td>\n",
       "      <td>110.000000</td>\n",
       "      <td>1796.000000</td>\n",
       "      <td>2.000000</td>\n",
       "      <td>10610.000000</td>\n",
       "      <td>40714.000000</td>\n",
       "      <td>974.000000</td>\n",
       "      <td>35552.000000</td>\n",
       "      <td>66000.000000</td>\n",
       "      <td>26950.000000</td>\n",
       "      <td>21693.500000</td>\n",
       "    </tr>\n",
       "    <tr>\n",
       "      <th>75%</th>\n",
       "      <td>2018.000000</td>\n",
       "      <td>1680.000000</td>\n",
       "      <td>147.000000</td>\n",
       "      <td>2354.000000</td>\n",
       "      <td>3.000000</td>\n",
       "      <td>14870.000000</td>\n",
       "      <td>51765.000000</td>\n",
       "      <td>1361.000000</td>\n",
       "      <td>50387.750000</td>\n",
       "      <td>105000.000000</td>\n",
       "      <td>39917.000000</td>\n",
       "      <td>42637.250000</td>\n",
       "    </tr>\n",
       "    <tr>\n",
       "      <th>max</th>\n",
       "      <td>2021.000000</td>\n",
       "      <td>20980.000000</td>\n",
       "      <td>552.000000</td>\n",
       "      <td>15681.000000</td>\n",
       "      <td>6.000000</td>\n",
       "      <td>865610.000000</td>\n",
       "      <td>97889.000000</td>\n",
       "      <td>12375.000000</td>\n",
       "      <td>653862.000000</td>\n",
       "      <td>740459.000000</td>\n",
       "      <td>592131.000000</td>\n",
       "      <td>858230.000000</td>\n",
       "    </tr>\n",
       "  </tbody>\n",
       "</table>\n",
       "</div>"
      ],
      "text/plain": [
       "       manufactured   curb_weight         power    engine_cap  no_of_owners  \\\n",
       "count  16589.000000  16200.000000  14410.000000  16539.000000  16572.000000   \n",
       "mean    2014.157514   1554.550926    133.668078   2075.391559      2.035421   \n",
       "std        5.189799    820.521788     73.930180   1118.392226      1.362980   \n",
       "min     1933.000000      2.000000     40.500000      0.000000      1.000000   \n",
       "25%     2011.000000   1280.000000     90.000000   1497.000000      1.000000   \n",
       "50%     2016.000000   1440.000000    110.000000   1796.000000      2.000000   \n",
       "75%     2018.000000   1680.000000    147.000000   2354.000000      3.000000   \n",
       "max     2021.000000  20980.000000    552.000000  15681.000000      6.000000   \n",
       "\n",
       "        depreciation           coe      road_tax    dereg_value  \\\n",
       "count   16344.000000  15702.000000  14472.000000   15590.000000   \n",
       "mean    14484.371635  41823.619921   1341.512369   44184.926042   \n",
       "std     19369.382210  16026.840203   1162.448086   42796.367937   \n",
       "min      2680.000000     10.000000     50.000000      97.000000   \n",
       "25%      8630.000000  31803.000000    684.000000   24980.500000   \n",
       "50%     10610.000000  40714.000000    974.000000   35552.000000   \n",
       "75%     14870.000000  51765.000000   1361.000000   50387.750000   \n",
       "max    865610.000000  97889.000000  12375.000000  653862.000000   \n",
       "\n",
       "             mileage            omv            arf  \n",
       "count   12935.000000   16553.000000   16494.000000  \n",
       "mean    73207.974874   38194.146922   38619.728507  \n",
       "std     50757.249439   42005.805292   59742.614184  \n",
       "min         1.000000    1931.000000      63.000000  \n",
       "25%     33906.500000   19134.000000   12612.750000  \n",
       "50%     66000.000000   26950.000000   21693.500000  \n",
       "75%    105000.000000   39917.000000   42637.250000  \n",
       "max    740459.000000  592131.000000  858230.000000  "
      ]
     },
     "metadata": {},
     "execution_count": 186
    }
   ],
   "metadata": {}
  },
  {
   "cell_type": "code",
   "execution_count": 187,
   "source": [
    "numerical_features = [\"manufactured\",\"curb_weight\",\"power\",\"engine_cap\",\"no_of_owners\",\"depreciation\",\"coe\",\"road_tax\",\"dereg_value\",\"mileage\",\"omv\",\"arf\"]\n",
    "\n",
    "date_features = [\"reg_date\"]\n",
    "car_resale_dataset_selected_cleaned = car_resale_dataset_selected.copy()\n",
    "print(car_resale_dataset_selected_cleaned.isnull().sum())\n",
    "car_resale_dataset_selected_cleaned[numerical_features] = car_resale_dataset_selected_cleaned[numerical_features].fillna(car_resale_dataset_selected_cleaned[numerical_features].mean())\n",
    "car_resale_dataset_selected_cleaned[numerical_features] = car_resale_dataset_selected_cleaned[numerical_features].apply(lambda x: (x - x.mean()) / (x.std()))\n",
    "car_resale_dataset_selected_cleaned.reg_date = pd.to_datetime(car_resale_dataset_selected_cleaned.reg_date)\n",
    "car_resale_dataset_selected_cleaned.reg_date = car_resale_dataset_selected_cleaned.reg_date.apply(lambda x: float(x.year))\n",
    "car_resale_dataset_selected_cleaned[date_features] = car_resale_dataset_selected_cleaned[date_features].fillna(car_resale_dataset_selected_cleaned[date_features].mean())\n",
    "car_resale_dataset_selected_cleaned[date_features] = car_resale_dataset_selected_cleaned[date_features].apply(lambda x: (x - x.mean()) / (x.std()))\n",
    "print(car_resale_dataset_selected_cleaned.info())\n",
    "car_resale_dataset_selected_cleaned.describe()"
   ],
   "outputs": [
    {
     "output_type": "stream",
     "name": "stdout",
     "text": [
      "make                2122\n",
      "model                  0\n",
      "manufactured           0\n",
      "reg_date              15\n",
      "type_of_vehicle        0\n",
      "category               0\n",
      "transmission           0\n",
      "curb_weight          389\n",
      "power               2179\n",
      "fuel_type          13150\n",
      "engine_cap            50\n",
      "no_of_owners          17\n",
      "depreciation         245\n",
      "coe                  887\n",
      "road_tax            2117\n",
      "dereg_value          999\n",
      "mileage             3654\n",
      "omv                   36\n",
      "arf                   95\n",
      "dtype: int64\n",
      "<class 'pandas.core.frame.DataFrame'>\n",
      "Int64Index: 16589 entries, 0 to 16783\n",
      "Data columns (total 19 columns):\n",
      " #   Column           Non-Null Count  Dtype  \n",
      "---  ------           --------------  -----  \n",
      " 0   make             14467 non-null  object \n",
      " 1   model            16589 non-null  object \n",
      " 2   manufactured     16589 non-null  float64\n",
      " 3   reg_date         16589 non-null  float64\n",
      " 4   type_of_vehicle  16589 non-null  object \n",
      " 5   category         16589 non-null  object \n",
      " 6   transmission     16589 non-null  object \n",
      " 7   curb_weight      16589 non-null  float64\n",
      " 8   power            16589 non-null  float64\n",
      " 9   fuel_type        3439 non-null   object \n",
      " 10  engine_cap       16589 non-null  float64\n",
      " 11  no_of_owners     16589 non-null  float64\n",
      " 12  depreciation     16589 non-null  float64\n",
      " 13  coe              16589 non-null  float64\n",
      " 14  road_tax         16589 non-null  float64\n",
      " 15  dereg_value      16589 non-null  float64\n",
      " 16  mileage          16589 non-null  float64\n",
      " 17  omv              16589 non-null  float64\n",
      " 18  arf              16589 non-null  float64\n",
      "dtypes: float64(13), object(6)\n",
      "memory usage: 2.5+ MB\n",
      "None\n"
     ]
    },
    {
     "output_type": "execute_result",
     "data": {
      "text/html": [
       "<div>\n",
       "<style scoped>\n",
       "    .dataframe tbody tr th:only-of-type {\n",
       "        vertical-align: middle;\n",
       "    }\n",
       "\n",
       "    .dataframe tbody tr th {\n",
       "        vertical-align: top;\n",
       "    }\n",
       "\n",
       "    .dataframe thead th {\n",
       "        text-align: right;\n",
       "    }\n",
       "</style>\n",
       "<table border=\"1\" class=\"dataframe\">\n",
       "  <thead>\n",
       "    <tr style=\"text-align: right;\">\n",
       "      <th></th>\n",
       "      <th>manufactured</th>\n",
       "      <th>reg_date</th>\n",
       "      <th>curb_weight</th>\n",
       "      <th>power</th>\n",
       "      <th>engine_cap</th>\n",
       "      <th>no_of_owners</th>\n",
       "      <th>depreciation</th>\n",
       "      <th>coe</th>\n",
       "      <th>road_tax</th>\n",
       "      <th>dereg_value</th>\n",
       "      <th>mileage</th>\n",
       "      <th>omv</th>\n",
       "      <th>arf</th>\n",
       "    </tr>\n",
       "  </thead>\n",
       "  <tbody>\n",
       "    <tr>\n",
       "      <th>count</th>\n",
       "      <td>1.658900e+04</td>\n",
       "      <td>1.658900e+04</td>\n",
       "      <td>1.658900e+04</td>\n",
       "      <td>1.658900e+04</td>\n",
       "      <td>1.658900e+04</td>\n",
       "      <td>1.658900e+04</td>\n",
       "      <td>1.658900e+04</td>\n",
       "      <td>1.658900e+04</td>\n",
       "      <td>1.658900e+04</td>\n",
       "      <td>1.658900e+04</td>\n",
       "      <td>1.658900e+04</td>\n",
       "      <td>1.658900e+04</td>\n",
       "      <td>1.658900e+04</td>\n",
       "    </tr>\n",
       "    <tr>\n",
       "      <th>mean</th>\n",
       "      <td>3.020203e-15</td>\n",
       "      <td>3.158444e-14</td>\n",
       "      <td>7.003058e-17</td>\n",
       "      <td>-1.138265e-16</td>\n",
       "      <td>-4.185773e-16</td>\n",
       "      <td>-1.956894e-17</td>\n",
       "      <td>8.619973e-18</td>\n",
       "      <td>7.832932e-17</td>\n",
       "      <td>1.881403e-16</td>\n",
       "      <td>-2.111626e-16</td>\n",
       "      <td>1.957965e-16</td>\n",
       "      <td>-7.174387e-17</td>\n",
       "      <td>8.031030e-17</td>\n",
       "    </tr>\n",
       "    <tr>\n",
       "      <th>std</th>\n",
       "      <td>1.000000e+00</td>\n",
       "      <td>1.000000e+00</td>\n",
       "      <td>1.000000e+00</td>\n",
       "      <td>1.000000e+00</td>\n",
       "      <td>1.000000e+00</td>\n",
       "      <td>1.000000e+00</td>\n",
       "      <td>1.000000e+00</td>\n",
       "      <td>1.000000e+00</td>\n",
       "      <td>1.000000e+00</td>\n",
       "      <td>1.000000e+00</td>\n",
       "      <td>1.000000e+00</td>\n",
       "      <td>1.000000e+00</td>\n",
       "      <td>1.000000e+00</td>\n",
       "    </tr>\n",
       "    <tr>\n",
       "      <th>min</th>\n",
       "      <td>-1.563789e+01</td>\n",
       "      <td>-9.318950e+00</td>\n",
       "      <td>-1.914735e+00</td>\n",
       "      <td>-1.352152e+00</td>\n",
       "      <td>-1.858495e+00</td>\n",
       "      <td>-7.600638e-01</td>\n",
       "      <td>-6.139857e-01</td>\n",
       "      <td>-2.681657e+00</td>\n",
       "      <td>-1.189523e+00</td>\n",
       "      <td>-1.062675e+00</td>\n",
       "      <td>-1.633371e+00</td>\n",
       "      <td>-8.642272e-01</td>\n",
       "      <td>-6.472367e-01</td>\n",
       "    </tr>\n",
       "    <tr>\n",
       "      <th>25%</th>\n",
       "      <td>-6.084078e-01</td>\n",
       "      <td>-7.449139e-01</td>\n",
       "      <td>-3.385990e-01</td>\n",
       "      <td>-6.047304e-01</td>\n",
       "      <td>-5.179446e-01</td>\n",
       "      <td>-7.600638e-01</td>\n",
       "      <td>-3.034656e-01</td>\n",
       "      <td>-6.222637e-01</td>\n",
       "      <td>-5.558535e-01</td>\n",
       "      <td>-4.444435e-01</td>\n",
       "      <td>-6.516793e-01</td>\n",
       "      <td>-4.539575e-01</td>\n",
       "      <td>-4.359940e-01</td>\n",
       "    </tr>\n",
       "    <tr>\n",
       "      <th>50%</th>\n",
       "      <td>3.550207e-01</td>\n",
       "      <td>2.758046e-01</td>\n",
       "      <td>-1.289409e-01</td>\n",
       "      <td>-2.709305e-01</td>\n",
       "      <td>-2.501927e-01</td>\n",
       "      <td>-2.600137e-02</td>\n",
       "      <td>-1.978784e-01</td>\n",
       "      <td>0.000000e+00</td>\n",
       "      <td>-1.358634e-01</td>\n",
       "      <td>-1.772075e-01</td>\n",
       "      <td>3.246779e-16</td>\n",
       "      <td>-2.670899e-01</td>\n",
       "      <td>-2.811543e-01</td>\n",
       "    </tr>\n",
       "    <tr>\n",
       "      <th>75%</th>\n",
       "      <td>7.403921e-01</td>\n",
       "      <td>6.840920e-01</td>\n",
       "      <td>1.547142e-01</td>\n",
       "      <td>1.933024e-02</td>\n",
       "      <td>2.494914e-01</td>\n",
       "      <td>7.080611e-01</td>\n",
       "      <td>1.381624e-02</td>\n",
       "      <td>5.953122e-01</td>\n",
       "      <td>2.094182e-16</td>\n",
       "      <td>1.122038e-01</td>\n",
       "      <td>3.969702e-01</td>\n",
       "      <td>3.858068e-02</td>\n",
       "      <td>6.473372e-02</td>\n",
       "    </tr>\n",
       "    <tr>\n",
       "      <th>max</th>\n",
       "      <td>1.318449e+00</td>\n",
       "      <td>1.500667e+00</td>\n",
       "      <td>2.395708e+01</td>\n",
       "      <td>6.071267e+00</td>\n",
       "      <td>1.218370e+01</td>\n",
       "      <td>2.910249e+00</td>\n",
       "      <td>4.426995e+01</td>\n",
       "      <td>3.595673e+00</td>\n",
       "      <td>1.016218e+01</td>\n",
       "      <td>1.469538e+01</td>\n",
       "      <td>1.488750e+01</td>\n",
       "      <td>1.320148e+01</td>\n",
       "      <td>1.375848e+01</td>\n",
       "    </tr>\n",
       "  </tbody>\n",
       "</table>\n",
       "</div>"
      ],
      "text/plain": [
       "       manufactured      reg_date   curb_weight         power    engine_cap  \\\n",
       "count  1.658900e+04  1.658900e+04  1.658900e+04  1.658900e+04  1.658900e+04   \n",
       "mean   3.020203e-15  3.158444e-14  7.003058e-17 -1.138265e-16 -4.185773e-16   \n",
       "std    1.000000e+00  1.000000e+00  1.000000e+00  1.000000e+00  1.000000e+00   \n",
       "min   -1.563789e+01 -9.318950e+00 -1.914735e+00 -1.352152e+00 -1.858495e+00   \n",
       "25%   -6.084078e-01 -7.449139e-01 -3.385990e-01 -6.047304e-01 -5.179446e-01   \n",
       "50%    3.550207e-01  2.758046e-01 -1.289409e-01 -2.709305e-01 -2.501927e-01   \n",
       "75%    7.403921e-01  6.840920e-01  1.547142e-01  1.933024e-02  2.494914e-01   \n",
       "max    1.318449e+00  1.500667e+00  2.395708e+01  6.071267e+00  1.218370e+01   \n",
       "\n",
       "       no_of_owners  depreciation           coe      road_tax   dereg_value  \\\n",
       "count  1.658900e+04  1.658900e+04  1.658900e+04  1.658900e+04  1.658900e+04   \n",
       "mean  -1.956894e-17  8.619973e-18  7.832932e-17  1.881403e-16 -2.111626e-16   \n",
       "std    1.000000e+00  1.000000e+00  1.000000e+00  1.000000e+00  1.000000e+00   \n",
       "min   -7.600638e-01 -6.139857e-01 -2.681657e+00 -1.189523e+00 -1.062675e+00   \n",
       "25%   -7.600638e-01 -3.034656e-01 -6.222637e-01 -5.558535e-01 -4.444435e-01   \n",
       "50%   -2.600137e-02 -1.978784e-01  0.000000e+00 -1.358634e-01 -1.772075e-01   \n",
       "75%    7.080611e-01  1.381624e-02  5.953122e-01  2.094182e-16  1.122038e-01   \n",
       "max    2.910249e+00  4.426995e+01  3.595673e+00  1.016218e+01  1.469538e+01   \n",
       "\n",
       "            mileage           omv           arf  \n",
       "count  1.658900e+04  1.658900e+04  1.658900e+04  \n",
       "mean   1.957965e-16 -7.174387e-17  8.031030e-17  \n",
       "std    1.000000e+00  1.000000e+00  1.000000e+00  \n",
       "min   -1.633371e+00 -8.642272e-01 -6.472367e-01  \n",
       "25%   -6.516793e-01 -4.539575e-01 -4.359940e-01  \n",
       "50%    3.246779e-16 -2.670899e-01 -2.811543e-01  \n",
       "75%    3.969702e-01  3.858068e-02  6.473372e-02  \n",
       "max    1.488750e+01  1.320148e+01  1.375848e+01  "
      ]
     },
     "metadata": {},
     "execution_count": 187
    }
   ],
   "metadata": {}
  },
  {
   "cell_type": "code",
   "execution_count": 188,
   "source": [
    "print(car_resale_dataset_selected_cleaned.isnull().sum())"
   ],
   "outputs": [
    {
     "output_type": "stream",
     "name": "stdout",
     "text": [
      "make                2122\n",
      "model                  0\n",
      "manufactured           0\n",
      "reg_date               0\n",
      "type_of_vehicle        0\n",
      "category               0\n",
      "transmission           0\n",
      "curb_weight            0\n",
      "power                  0\n",
      "fuel_type          13150\n",
      "engine_cap             0\n",
      "no_of_owners           0\n",
      "depreciation           0\n",
      "coe                    0\n",
      "road_tax               0\n",
      "dereg_value            0\n",
      "mileage                0\n",
      "omv                    0\n",
      "arf                    0\n",
      "dtype: int64\n"
     ]
    }
   ],
   "metadata": {}
  },
  {
   "cell_type": "code",
   "execution_count": 189,
   "source": [
    "numerical_features = [\"manufactured\",\"curb_weight\",\"power\",\"engine_cap\",\"no_of_owners\",\"depreciation\",\"coe\",\"road_tax\",\"dereg_value\",\"mileage\",\"omv\",\"arf\",\"reg_date\"]\n",
    "other_features = [item for item in selected_features if item not in numerical_features]\n",
    "other_features"
   ],
   "outputs": [
    {
     "output_type": "execute_result",
     "data": {
      "text/plain": [
       "['make', 'model', 'type_of_vehicle', 'category', 'transmission', 'fuel_type']"
      ]
     },
     "metadata": {},
     "execution_count": 189
    }
   ],
   "metadata": {}
  },
  {
   "cell_type": "code",
   "execution_count": 190,
   "source": [
    "categorys = car_resale_dataset_selected_cleaned[\"category\"].str.split(pat=\",\", expand=True)\n",
    "categorys.rename(columns={0:'c1',1:'c2',2:'c3',3:'c4',4:'c5',5:'c6'},inplace=True)\n",
    "\n",
    "car_resale_dataset_selected_cleaned_concat = pd.concat([car_resale_dataset_selected_cleaned,categorys],axis=1)\n",
    "final_selected_features =  [\"make\",\"manufactured\",\"reg_date\",\"type_of_vehicle\",\"transmission\",\"curb_weight\",\"power\",\n",
    "                     \"engine_cap\",\"depreciation\",\"coe\",\"road_tax\",\"dereg_value\",\"omv\",\"arf\", \"c1\"]\n",
    "car_resale_dataset_final_selected = car_resale_dataset_selected_cleaned_concat[final_selected_features]\n",
    "print(car_resale_dataset_final_selected.isnull().sum())\n",
    "# car_resale_dataset_final_selected = car_resale_dataset_final_selected.fillna(\"unknow\")"
   ],
   "outputs": [
    {
     "output_type": "stream",
     "name": "stdout",
     "text": [
      "make               2122\n",
      "manufactured          0\n",
      "reg_date              0\n",
      "type_of_vehicle       0\n",
      "transmission          0\n",
      "curb_weight           0\n",
      "power                 0\n",
      "engine_cap            0\n",
      "depreciation          0\n",
      "coe                   0\n",
      "road_tax              0\n",
      "dereg_value           0\n",
      "omv                   0\n",
      "arf                   0\n",
      "c1                    0\n",
      "dtype: int64\n"
     ]
    }
   ],
   "metadata": {}
  },
  {
   "cell_type": "code",
   "execution_count": 191,
   "source": [
    "numerical_features = [\"manufactured\",\"curb_weight\",\"power\",\"engine_cap\",\"no_of_owners\",\"depreciation\",\"coe\",\"road_tax\",\"dereg_value\",\"mileage\",\"omv\",\"arf\"]\n",
    "car_resale_test_cleaned = car_resale_test_selected.copy()\n",
    "car_resale_test_cleaned[numerical_features] = car_resale_test_cleaned[numerical_features].fillna(car_resale_test_cleaned[numerical_features].mean())\n",
    "car_resale_test_cleaned[numerical_features] = car_resale_test_cleaned[numerical_features].apply(lambda x: (x - x.mean()) / (x.std()))\n",
    "car_resale_test_cleaned.reg_date = pd.to_datetime(car_resale_test_cleaned.reg_date)\n",
    "car_resale_test_cleaned.reg_date = car_resale_test_cleaned.reg_date.apply(lambda x: float(x.year))\n",
    "car_resale_test_cleaned[date_features] = car_resale_test_cleaned[date_features].fillna(car_resale_test_cleaned[date_features].mean())\n",
    "car_resale_test_cleaned[date_features] = car_resale_test_cleaned[date_features].apply(lambda x: (x - x.mean()) / (x.std()))\n",
    "print(car_resale_test_cleaned.info())\n",
    "car_resale_test_cleaned.describe()"
   ],
   "outputs": [
    {
     "output_type": "stream",
     "name": "stdout",
     "text": [
      "<class 'pandas.core.frame.DataFrame'>\n",
      "RangeIndex: 5000 entries, 0 to 4999\n",
      "Data columns (total 19 columns):\n",
      " #   Column           Non-Null Count  Dtype  \n",
      "---  ------           --------------  -----  \n",
      " 0   make             4373 non-null   object \n",
      " 1   model            5000 non-null   object \n",
      " 2   manufactured     5000 non-null   float64\n",
      " 3   reg_date         5000 non-null   float64\n",
      " 4   type_of_vehicle  5000 non-null   object \n",
      " 5   category         5000 non-null   object \n",
      " 6   transmission     5000 non-null   object \n",
      " 7   curb_weight      5000 non-null   float64\n",
      " 8   power            5000 non-null   float64\n",
      " 9   fuel_type        1051 non-null   object \n",
      " 10  engine_cap       5000 non-null   float64\n",
      " 11  no_of_owners     5000 non-null   float64\n",
      " 12  depreciation     5000 non-null   float64\n",
      " 13  coe              5000 non-null   float64\n",
      " 14  road_tax         5000 non-null   float64\n",
      " 15  dereg_value      5000 non-null   float64\n",
      " 16  mileage          5000 non-null   float64\n",
      " 17  omv              5000 non-null   float64\n",
      " 18  arf              5000 non-null   float64\n",
      "dtypes: float64(13), object(6)\n",
      "memory usage: 742.3+ KB\n",
      "None\n"
     ]
    },
    {
     "output_type": "execute_result",
     "data": {
      "text/html": [
       "<div>\n",
       "<style scoped>\n",
       "    .dataframe tbody tr th:only-of-type {\n",
       "        vertical-align: middle;\n",
       "    }\n",
       "\n",
       "    .dataframe tbody tr th {\n",
       "        vertical-align: top;\n",
       "    }\n",
       "\n",
       "    .dataframe thead th {\n",
       "        text-align: right;\n",
       "    }\n",
       "</style>\n",
       "<table border=\"1\" class=\"dataframe\">\n",
       "  <thead>\n",
       "    <tr style=\"text-align: right;\">\n",
       "      <th></th>\n",
       "      <th>manufactured</th>\n",
       "      <th>reg_date</th>\n",
       "      <th>curb_weight</th>\n",
       "      <th>power</th>\n",
       "      <th>engine_cap</th>\n",
       "      <th>no_of_owners</th>\n",
       "      <th>depreciation</th>\n",
       "      <th>coe</th>\n",
       "      <th>road_tax</th>\n",
       "      <th>dereg_value</th>\n",
       "      <th>mileage</th>\n",
       "      <th>omv</th>\n",
       "      <th>arf</th>\n",
       "    </tr>\n",
       "  </thead>\n",
       "  <tbody>\n",
       "    <tr>\n",
       "      <th>count</th>\n",
       "      <td>5.000000e+03</td>\n",
       "      <td>5.000000e+03</td>\n",
       "      <td>5.000000e+03</td>\n",
       "      <td>5.000000e+03</td>\n",
       "      <td>5.000000e+03</td>\n",
       "      <td>5.000000e+03</td>\n",
       "      <td>5.000000e+03</td>\n",
       "      <td>5.000000e+03</td>\n",
       "      <td>5.000000e+03</td>\n",
       "      <td>5.000000e+03</td>\n",
       "      <td>5.000000e+03</td>\n",
       "      <td>5.000000e+03</td>\n",
       "      <td>5.000000e+03</td>\n",
       "    </tr>\n",
       "    <tr>\n",
       "      <th>mean</th>\n",
       "      <td>7.208314e-14</td>\n",
       "      <td>2.206804e-14</td>\n",
       "      <td>1.804779e-16</td>\n",
       "      <td>6.110668e-17</td>\n",
       "      <td>4.348522e-16</td>\n",
       "      <td>-4.618528e-17</td>\n",
       "      <td>-8.171241e-17</td>\n",
       "      <td>1.165290e-16</td>\n",
       "      <td>-8.739676e-17</td>\n",
       "      <td>-1.328715e-16</td>\n",
       "      <td>-2.060574e-17</td>\n",
       "      <td>1.904255e-16</td>\n",
       "      <td>3.694822e-17</td>\n",
       "    </tr>\n",
       "    <tr>\n",
       "      <th>std</th>\n",
       "      <td>1.000000e+00</td>\n",
       "      <td>1.000000e+00</td>\n",
       "      <td>1.000000e+00</td>\n",
       "      <td>1.000000e+00</td>\n",
       "      <td>1.000000e+00</td>\n",
       "      <td>1.000000e+00</td>\n",
       "      <td>1.000000e+00</td>\n",
       "      <td>1.000000e+00</td>\n",
       "      <td>1.000000e+00</td>\n",
       "      <td>1.000000e+00</td>\n",
       "      <td>1.000000e+00</td>\n",
       "      <td>1.000000e+00</td>\n",
       "      <td>1.000000e+00</td>\n",
       "    </tr>\n",
       "    <tr>\n",
       "      <th>min</th>\n",
       "      <td>-1.165731e+01</td>\n",
       "      <td>-1.235469e+01</td>\n",
       "      <td>-1.047957e+00</td>\n",
       "      <td>-1.403031e+00</td>\n",
       "      <td>-1.333470e+00</td>\n",
       "      <td>-7.713938e-01</td>\n",
       "      <td>-5.712852e-01</td>\n",
       "      <td>-2.575012e+00</td>\n",
       "      <td>-1.196801e+00</td>\n",
       "      <td>-1.051580e+00</td>\n",
       "      <td>-1.643926e+00</td>\n",
       "      <td>-8.407136e-01</td>\n",
       "      <td>-6.446559e-01</td>\n",
       "    </tr>\n",
       "    <tr>\n",
       "      <th>25%</th>\n",
       "      <td>-5.805223e-01</td>\n",
       "      <td>-7.257579e-01</td>\n",
       "      <td>-3.563976e-01</td>\n",
       "      <td>-6.075351e-01</td>\n",
       "      <td>-5.098854e-01</td>\n",
       "      <td>-7.713938e-01</td>\n",
       "      <td>-2.918427e-01</td>\n",
       "      <td>-5.917153e-01</td>\n",
       "      <td>-5.668716e-01</td>\n",
       "      <td>-4.446078e-01</td>\n",
       "      <td>-6.347052e-01</td>\n",
       "      <td>-4.530604e-01</td>\n",
       "      <td>-4.270364e-01</td>\n",
       "    </tr>\n",
       "    <tr>\n",
       "      <th>50%</th>\n",
       "      <td>3.581889e-01</td>\n",
       "      <td>2.767363e-01</td>\n",
       "      <td>-1.281157e-01</td>\n",
       "      <td>-2.687128e-01</td>\n",
       "      <td>-2.448135e-01</td>\n",
       "      <td>-2.796866e-02</td>\n",
       "      <td>-1.891591e-01</td>\n",
       "      <td>0.000000e+00</td>\n",
       "      <td>-1.368598e-01</td>\n",
       "      <td>-1.629070e-01</td>\n",
       "      <td>0.000000e+00</td>\n",
       "      <td>-2.633596e-01</td>\n",
       "      <td>-2.636137e-01</td>\n",
       "    </tr>\n",
       "    <tr>\n",
       "      <th>75%</th>\n",
       "      <td>7.336734e-01</td>\n",
       "      <td>6.777339e-01</td>\n",
       "      <td>1.673079e-01</td>\n",
       "      <td>2.591529e-02</td>\n",
       "      <td>1.115708e-01</td>\n",
       "      <td>7.154564e-01</td>\n",
       "      <td>4.586021e-03</td>\n",
       "      <td>5.929927e-01</td>\n",
       "      <td>0.000000e+00</td>\n",
       "      <td>1.141089e-01</td>\n",
       "      <td>3.970800e-01</td>\n",
       "      <td>4.134027e-02</td>\n",
       "      <td>5.571975e-02</td>\n",
       "    </tr>\n",
       "    <tr>\n",
       "      <th>max</th>\n",
       "      <td>1.296900e+00</td>\n",
       "      <td>1.279230e+00</td>\n",
       "      <td>1.615375e+01</td>\n",
       "      <td>8.864758e+00</td>\n",
       "      <td>1.206374e+01</td>\n",
       "      <td>2.945732e+00</td>\n",
       "      <td>4.034686e+01</td>\n",
       "      <td>3.493230e+00</td>\n",
       "      <td>8.078629e+00</td>\n",
       "      <td>1.794399e+01</td>\n",
       "      <td>1.177689e+01</td>\n",
       "      <td>1.688632e+01</td>\n",
       "      <td>1.785014e+01</td>\n",
       "    </tr>\n",
       "  </tbody>\n",
       "</table>\n",
       "</div>"
      ],
      "text/plain": [
       "       manufactured      reg_date   curb_weight         power    engine_cap  \\\n",
       "count  5.000000e+03  5.000000e+03  5.000000e+03  5.000000e+03  5.000000e+03   \n",
       "mean   7.208314e-14  2.206804e-14  1.804779e-16  6.110668e-17  4.348522e-16   \n",
       "std    1.000000e+00  1.000000e+00  1.000000e+00  1.000000e+00  1.000000e+00   \n",
       "min   -1.165731e+01 -1.235469e+01 -1.047957e+00 -1.403031e+00 -1.333470e+00   \n",
       "25%   -5.805223e-01 -7.257579e-01 -3.563976e-01 -6.075351e-01 -5.098854e-01   \n",
       "50%    3.581889e-01  2.767363e-01 -1.281157e-01 -2.687128e-01 -2.448135e-01   \n",
       "75%    7.336734e-01  6.777339e-01  1.673079e-01  2.591529e-02  1.115708e-01   \n",
       "max    1.296900e+00  1.279230e+00  1.615375e+01  8.864758e+00  1.206374e+01   \n",
       "\n",
       "       no_of_owners  depreciation           coe      road_tax   dereg_value  \\\n",
       "count  5.000000e+03  5.000000e+03  5.000000e+03  5.000000e+03  5.000000e+03   \n",
       "mean  -4.618528e-17 -8.171241e-17  1.165290e-16 -8.739676e-17 -1.328715e-16   \n",
       "std    1.000000e+00  1.000000e+00  1.000000e+00  1.000000e+00  1.000000e+00   \n",
       "min   -7.713938e-01 -5.712852e-01 -2.575012e+00 -1.196801e+00 -1.051580e+00   \n",
       "25%   -7.713938e-01 -2.918427e-01 -5.917153e-01 -5.668716e-01 -4.446078e-01   \n",
       "50%   -2.796866e-02 -1.891591e-01  0.000000e+00 -1.368598e-01 -1.629070e-01   \n",
       "75%    7.154564e-01  4.586021e-03  5.929927e-01  0.000000e+00  1.141089e-01   \n",
       "max    2.945732e+00  4.034686e+01  3.493230e+00  8.078629e+00  1.794399e+01   \n",
       "\n",
       "            mileage           omv           arf  \n",
       "count  5.000000e+03  5.000000e+03  5.000000e+03  \n",
       "mean  -2.060574e-17  1.904255e-16  3.694822e-17  \n",
       "std    1.000000e+00  1.000000e+00  1.000000e+00  \n",
       "min   -1.643926e+00 -8.407136e-01 -6.446559e-01  \n",
       "25%   -6.347052e-01 -4.530604e-01 -4.270364e-01  \n",
       "50%    0.000000e+00 -2.633596e-01 -2.636137e-01  \n",
       "75%    3.970800e-01  4.134027e-02  5.571975e-02  \n",
       "max    1.177689e+01  1.688632e+01  1.785014e+01  "
      ]
     },
     "metadata": {},
     "execution_count": 191
    }
   ],
   "metadata": {}
  },
  {
   "cell_type": "code",
   "execution_count": 192,
   "source": [
    "test_categorys = car_resale_test_cleaned[\"category\"].str.split(pat=\",\", expand=True)\n",
    "test_categorys.rename(columns={0:'c1',1:'c2',2:'c3',3:'c4',4:'c5',5:'c6'},inplace=True) \n",
    "car_resale_test_concat = pd.concat([car_resale_test_cleaned,test_categorys],axis=1)\n",
    "car_resale_test_concat.head()"
   ],
   "outputs": [
    {
     "output_type": "execute_result",
     "data": {
      "text/html": [
       "<div>\n",
       "<style scoped>\n",
       "    .dataframe tbody tr th:only-of-type {\n",
       "        vertical-align: middle;\n",
       "    }\n",
       "\n",
       "    .dataframe tbody tr th {\n",
       "        vertical-align: top;\n",
       "    }\n",
       "\n",
       "    .dataframe thead th {\n",
       "        text-align: right;\n",
       "    }\n",
       "</style>\n",
       "<table border=\"1\" class=\"dataframe\">\n",
       "  <thead>\n",
       "    <tr style=\"text-align: right;\">\n",
       "      <th></th>\n",
       "      <th>make</th>\n",
       "      <th>model</th>\n",
       "      <th>manufactured</th>\n",
       "      <th>reg_date</th>\n",
       "      <th>type_of_vehicle</th>\n",
       "      <th>category</th>\n",
       "      <th>transmission</th>\n",
       "      <th>curb_weight</th>\n",
       "      <th>power</th>\n",
       "      <th>fuel_type</th>\n",
       "      <th>...</th>\n",
       "      <th>dereg_value</th>\n",
       "      <th>mileage</th>\n",
       "      <th>omv</th>\n",
       "      <th>arf</th>\n",
       "      <th>c1</th>\n",
       "      <th>c2</th>\n",
       "      <th>c3</th>\n",
       "      <th>c4</th>\n",
       "      <th>c5</th>\n",
       "      <th>c6</th>\n",
       "    </tr>\n",
       "  </thead>\n",
       "  <tbody>\n",
       "    <tr>\n",
       "      <th>0</th>\n",
       "      <td>bmw</td>\n",
       "      <td>x6</td>\n",
       "      <td>-0.392780</td>\n",
       "      <td>-0.525259</td>\n",
       "      <td>suv</td>\n",
       "      <td>coe car</td>\n",
       "      <td>auto</td>\n",
       "      <td>0.697728</td>\n",
       "      <td>1.351742</td>\n",
       "      <td>NaN</td>\n",
       "      <td>...</td>\n",
       "      <td>-1.757050e-16</td>\n",
       "      <td>1.092413</td>\n",
       "      <td>0.742665</td>\n",
       "      <td>0.532496</td>\n",
       "      <td>coe car</td>\n",
       "      <td>None</td>\n",
       "      <td>None</td>\n",
       "      <td>None</td>\n",
       "      <td>None</td>\n",
       "      <td>None</td>\n",
       "    </tr>\n",
       "    <tr>\n",
       "      <th>1</th>\n",
       "      <td>porsche</td>\n",
       "      <td>911</td>\n",
       "      <td>-0.768264</td>\n",
       "      <td>-0.926257</td>\n",
       "      <td>sports car</td>\n",
       "      <td>coe car, direct owner sale</td>\n",
       "      <td>auto</td>\n",
       "      <td>-0.027403</td>\n",
       "      <td>2.206163</td>\n",
       "      <td>NaN</td>\n",
       "      <td>...</td>\n",
       "      <td>-4.997333e-01</td>\n",
       "      <td>1.159704</td>\n",
       "      <td>1.856733</td>\n",
       "      <td>1.324850</td>\n",
       "      <td>coe car</td>\n",
       "      <td>direct owner sale</td>\n",
       "      <td>None</td>\n",
       "      <td>None</td>\n",
       "      <td>None</td>\n",
       "      <td>None</td>\n",
       "    </tr>\n",
       "    <tr>\n",
       "      <th>2</th>\n",
       "      <td>porsche</td>\n",
       "      <td>macan</td>\n",
       "      <td>0.358189</td>\n",
       "      <td>0.477235</td>\n",
       "      <td>suv</td>\n",
       "      <td>parf car, premium ad car</td>\n",
       "      <td>auto</td>\n",
       "      <td>0.543302</td>\n",
       "      <td>0.836142</td>\n",
       "      <td>diesel</td>\n",
       "      <td>...</td>\n",
       "      <td>1.404659e+00</td>\n",
       "      <td>-0.388759</td>\n",
       "      <td>0.764941</td>\n",
       "      <td>1.025312</td>\n",
       "      <td>parf car</td>\n",
       "      <td>premium ad car</td>\n",
       "      <td>None</td>\n",
       "      <td>None</td>\n",
       "      <td>None</td>\n",
       "      <td>None</td>\n",
       "    </tr>\n",
       "    <tr>\n",
       "      <th>3</th>\n",
       "      <td>bmw</td>\n",
       "      <td>530i</td>\n",
       "      <td>0.545931</td>\n",
       "      <td>0.477235</td>\n",
       "      <td>luxury sedan</td>\n",
       "      <td>parf car, sgcarmart warranty cars</td>\n",
       "      <td>auto</td>\n",
       "      <td>-0.013975</td>\n",
       "      <td>0.762485</td>\n",
       "      <td>NaN</td>\n",
       "      <td>...</td>\n",
       "      <td>7.105761e-01</td>\n",
       "      <td>0.598951</td>\n",
       "      <td>0.271434</td>\n",
       "      <td>0.397879</td>\n",
       "      <td>parf car</td>\n",
       "      <td>sgcarmart warranty cars</td>\n",
       "      <td>None</td>\n",
       "      <td>None</td>\n",
       "      <td>None</td>\n",
       "      <td>None</td>\n",
       "    </tr>\n",
       "    <tr>\n",
       "      <th>4</th>\n",
       "      <td>NaN</td>\n",
       "      <td>vezel</td>\n",
       "      <td>0.358189</td>\n",
       "      <td>0.477235</td>\n",
       "      <td>suv</td>\n",
       "      <td>parf car</td>\n",
       "      <td>auto</td>\n",
       "      <td>-0.483967</td>\n",
       "      <td>-0.548609</td>\n",
       "      <td>NaN</td>\n",
       "      <td>...</td>\n",
       "      <td>-2.257903e-01</td>\n",
       "      <td>-0.253393</td>\n",
       "      <td>-0.428990</td>\n",
       "      <td>-0.470277</td>\n",
       "      <td>parf car</td>\n",
       "      <td>None</td>\n",
       "      <td>None</td>\n",
       "      <td>None</td>\n",
       "      <td>None</td>\n",
       "      <td>None</td>\n",
       "    </tr>\n",
       "  </tbody>\n",
       "</table>\n",
       "<p>5 rows × 25 columns</p>\n",
       "</div>"
      ],
      "text/plain": [
       "      make  model  manufactured  reg_date type_of_vehicle  \\\n",
       "0      bmw     x6     -0.392780 -0.525259             suv   \n",
       "1  porsche    911     -0.768264 -0.926257      sports car   \n",
       "2  porsche  macan      0.358189  0.477235             suv   \n",
       "3      bmw   530i      0.545931  0.477235    luxury sedan   \n",
       "4      NaN  vezel      0.358189  0.477235             suv   \n",
       "\n",
       "                            category transmission  curb_weight     power  \\\n",
       "0                            coe car         auto     0.697728  1.351742   \n",
       "1         coe car, direct owner sale         auto    -0.027403  2.206163   \n",
       "2           parf car, premium ad car         auto     0.543302  0.836142   \n",
       "3  parf car, sgcarmart warranty cars         auto    -0.013975  0.762485   \n",
       "4                           parf car         auto    -0.483967 -0.548609   \n",
       "\n",
       "  fuel_type  ...   dereg_value   mileage       omv       arf        c1  \\\n",
       "0       NaN  ... -1.757050e-16  1.092413  0.742665  0.532496   coe car   \n",
       "1       NaN  ... -4.997333e-01  1.159704  1.856733  1.324850   coe car   \n",
       "2    diesel  ...  1.404659e+00 -0.388759  0.764941  1.025312  parf car   \n",
       "3       NaN  ...  7.105761e-01  0.598951  0.271434  0.397879  parf car   \n",
       "4       NaN  ... -2.257903e-01 -0.253393 -0.428990 -0.470277  parf car   \n",
       "\n",
       "                         c2    c3    c4    c5    c6  \n",
       "0                      None  None  None  None  None  \n",
       "1         direct owner sale  None  None  None  None  \n",
       "2            premium ad car  None  None  None  None  \n",
       "3   sgcarmart warranty cars  None  None  None  None  \n",
       "4                      None  None  None  None  None  \n",
       "\n",
       "[5 rows x 25 columns]"
      ]
     },
     "metadata": {},
     "execution_count": 192
    }
   ],
   "metadata": {}
  },
  {
   "cell_type": "code",
   "execution_count": 193,
   "source": [
    "final_selected_features =  [\"make\",\"manufactured\",\"reg_date\",\"type_of_vehicle\",\"transmission\",\"curb_weight\",\"power\",\n",
    "                     \"engine_cap\",\"depreciation\",\"coe\",\"road_tax\",\"dereg_value\",\"omv\",\"arf\", \"c1\"]\n",
    "car_resale_test_final_selected = car_resale_test_concat[final_selected_features]\n",
    "car_resale_test_final_selected.head()"
   ],
   "outputs": [
    {
     "output_type": "execute_result",
     "data": {
      "text/html": [
       "<div>\n",
       "<style scoped>\n",
       "    .dataframe tbody tr th:only-of-type {\n",
       "        vertical-align: middle;\n",
       "    }\n",
       "\n",
       "    .dataframe tbody tr th {\n",
       "        vertical-align: top;\n",
       "    }\n",
       "\n",
       "    .dataframe thead th {\n",
       "        text-align: right;\n",
       "    }\n",
       "</style>\n",
       "<table border=\"1\" class=\"dataframe\">\n",
       "  <thead>\n",
       "    <tr style=\"text-align: right;\">\n",
       "      <th></th>\n",
       "      <th>make</th>\n",
       "      <th>manufactured</th>\n",
       "      <th>reg_date</th>\n",
       "      <th>type_of_vehicle</th>\n",
       "      <th>transmission</th>\n",
       "      <th>curb_weight</th>\n",
       "      <th>power</th>\n",
       "      <th>engine_cap</th>\n",
       "      <th>depreciation</th>\n",
       "      <th>coe</th>\n",
       "      <th>road_tax</th>\n",
       "      <th>dereg_value</th>\n",
       "      <th>omv</th>\n",
       "      <th>arf</th>\n",
       "      <th>c1</th>\n",
       "    </tr>\n",
       "  </thead>\n",
       "  <tbody>\n",
       "    <tr>\n",
       "      <th>0</th>\n",
       "      <td>bmw</td>\n",
       "      <td>-0.392780</td>\n",
       "      <td>-0.525259</td>\n",
       "      <td>suv</td>\n",
       "      <td>auto</td>\n",
       "      <td>0.697728</td>\n",
       "      <td>1.351742</td>\n",
       "      <td>0.803063</td>\n",
       "      <td>0.022339</td>\n",
       "      <td>0.000000</td>\n",
       "      <td>0.964574</td>\n",
       "      <td>-1.757050e-16</td>\n",
       "      <td>0.742665</td>\n",
       "      <td>0.532496</td>\n",
       "      <td>coe car</td>\n",
       "    </tr>\n",
       "    <tr>\n",
       "      <th>1</th>\n",
       "      <td>porsche</td>\n",
       "      <td>-0.768264</td>\n",
       "      <td>-0.926257</td>\n",
       "      <td>sports car</td>\n",
       "      <td>auto</td>\n",
       "      <td>-0.027403</td>\n",
       "      <td>2.206163</td>\n",
       "      <td>1.530902</td>\n",
       "      <td>0.893361</td>\n",
       "      <td>-0.619428</td>\n",
       "      <td>2.854363</td>\n",
       "      <td>-4.997333e-01</td>\n",
       "      <td>1.856733</td>\n",
       "      <td>1.324850</td>\n",
       "      <td>coe car</td>\n",
       "    </tr>\n",
       "    <tr>\n",
       "      <th>2</th>\n",
       "      <td>porsche</td>\n",
       "      <td>0.358189</td>\n",
       "      <td>0.477235</td>\n",
       "      <td>suv</td>\n",
       "      <td>auto</td>\n",
       "      <td>0.543302</td>\n",
       "      <td>0.836142</td>\n",
       "      <td>0.792424</td>\n",
       "      <td>0.623625</td>\n",
       "      <td>0.716801</td>\n",
       "      <td>1.883064</td>\n",
       "      <td>1.404659e+00</td>\n",
       "      <td>0.764941</td>\n",
       "      <td>1.025312</td>\n",
       "      <td>parf car</td>\n",
       "    </tr>\n",
       "    <tr>\n",
       "      <th>3</th>\n",
       "      <td>bmw</td>\n",
       "      <td>0.545931</td>\n",
       "      <td>0.477235</td>\n",
       "      <td>luxury sedan</td>\n",
       "      <td>auto</td>\n",
       "      <td>-0.013975</td>\n",
       "      <td>0.762485</td>\n",
       "      <td>-0.066621</td>\n",
       "      <td>0.253249</td>\n",
       "      <td>0.369306</td>\n",
       "      <td>-0.121772</td>\n",
       "      <td>7.105761e-01</td>\n",
       "      <td>0.271434</td>\n",
       "      <td>0.397879</td>\n",
       "      <td>parf car</td>\n",
       "    </tr>\n",
       "    <tr>\n",
       "      <th>4</th>\n",
       "      <td>NaN</td>\n",
       "      <td>0.358189</td>\n",
       "      <td>0.477235</td>\n",
       "      <td>suv</td>\n",
       "      <td>auto</td>\n",
       "      <td>-0.483967</td>\n",
       "      <td>-0.548609</td>\n",
       "      <td>-0.511659</td>\n",
       "      <td>-0.245865</td>\n",
       "      <td>0.306565</td>\n",
       "      <td>-0.619680</td>\n",
       "      <td>-2.257903e-01</td>\n",
       "      <td>-0.428990</td>\n",
       "      <td>-0.470277</td>\n",
       "      <td>parf car</td>\n",
       "    </tr>\n",
       "  </tbody>\n",
       "</table>\n",
       "</div>"
      ],
      "text/plain": [
       "      make  manufactured  reg_date type_of_vehicle transmission  curb_weight  \\\n",
       "0      bmw     -0.392780 -0.525259             suv         auto     0.697728   \n",
       "1  porsche     -0.768264 -0.926257      sports car         auto    -0.027403   \n",
       "2  porsche      0.358189  0.477235             suv         auto     0.543302   \n",
       "3      bmw      0.545931  0.477235    luxury sedan         auto    -0.013975   \n",
       "4      NaN      0.358189  0.477235             suv         auto    -0.483967   \n",
       "\n",
       "      power  engine_cap  depreciation       coe  road_tax   dereg_value  \\\n",
       "0  1.351742    0.803063      0.022339  0.000000  0.964574 -1.757050e-16   \n",
       "1  2.206163    1.530902      0.893361 -0.619428  2.854363 -4.997333e-01   \n",
       "2  0.836142    0.792424      0.623625  0.716801  1.883064  1.404659e+00   \n",
       "3  0.762485   -0.066621      0.253249  0.369306 -0.121772  7.105761e-01   \n",
       "4 -0.548609   -0.511659     -0.245865  0.306565 -0.619680 -2.257903e-01   \n",
       "\n",
       "        omv       arf        c1  \n",
       "0  0.742665  0.532496   coe car  \n",
       "1  1.856733  1.324850   coe car  \n",
       "2  0.764941  1.025312  parf car  \n",
       "3  0.271434  0.397879  parf car  \n",
       "4 -0.428990 -0.470277  parf car  "
      ]
     },
     "metadata": {},
     "execution_count": 193
    }
   ],
   "metadata": {}
  },
  {
   "cell_type": "code",
   "execution_count": 194,
   "source": [
    "car_resale_dataset_final_selected.shape,car_resale_test_final_selected.shape"
   ],
   "outputs": [
    {
     "output_type": "execute_result",
     "data": {
      "text/plain": [
       "((16589, 15), (5000, 15))"
      ]
     },
     "metadata": {},
     "execution_count": 194
    }
   ],
   "metadata": {}
  },
  {
   "cell_type": "code",
   "execution_count": 198,
   "source": [
    "all_dataset = pd.concat([car_resale_dataset_final_selected.assign(is_train = 1),car_resale_test_final_selected.assign(is_train = 0)])\n",
    "print(all_dataset.shape)\n",
    "all_dataset.head()"
   ],
   "outputs": [
    {
     "output_type": "stream",
     "name": "stdout",
     "text": [
      "(21589, 16)\n"
     ]
    },
    {
     "output_type": "execute_result",
     "data": {
      "text/html": [
       "<div>\n",
       "<style scoped>\n",
       "    .dataframe tbody tr th:only-of-type {\n",
       "        vertical-align: middle;\n",
       "    }\n",
       "\n",
       "    .dataframe tbody tr th {\n",
       "        vertical-align: top;\n",
       "    }\n",
       "\n",
       "    .dataframe thead th {\n",
       "        text-align: right;\n",
       "    }\n",
       "</style>\n",
       "<table border=\"1\" class=\"dataframe\">\n",
       "  <thead>\n",
       "    <tr style=\"text-align: right;\">\n",
       "      <th></th>\n",
       "      <th>make</th>\n",
       "      <th>manufactured</th>\n",
       "      <th>reg_date</th>\n",
       "      <th>type_of_vehicle</th>\n",
       "      <th>transmission</th>\n",
       "      <th>curb_weight</th>\n",
       "      <th>power</th>\n",
       "      <th>engine_cap</th>\n",
       "      <th>depreciation</th>\n",
       "      <th>coe</th>\n",
       "      <th>road_tax</th>\n",
       "      <th>dereg_value</th>\n",
       "      <th>omv</th>\n",
       "      <th>arf</th>\n",
       "      <th>c1</th>\n",
       "      <th>is_train</th>\n",
       "    </tr>\n",
       "  </thead>\n",
       "  <tbody>\n",
       "    <tr>\n",
       "      <th>0</th>\n",
       "      <td>bmw</td>\n",
       "      <td>-0.223036</td>\n",
       "      <td>-0.336626</td>\n",
       "      <td>luxury sedan</td>\n",
       "      <td>auto</td>\n",
       "      <td>0.006720</td>\n",
       "      <td>0.019330</td>\n",
       "      <td>-0.070199</td>\n",
       "      <td>0.167256</td>\n",
       "      <td>2.262400</td>\n",
       "      <td>-1.211269e-01</td>\n",
       "      <td>0.080242</td>\n",
       "      <td>0.170062</td>\n",
       "      <td>0.198792</td>\n",
       "      <td>parf car</td>\n",
       "      <td>1</td>\n",
       "    </tr>\n",
       "    <tr>\n",
       "      <th>1</th>\n",
       "      <td>NaN</td>\n",
       "      <td>-0.030351</td>\n",
       "      <td>0.071661</td>\n",
       "      <td>van</td>\n",
       "      <td>manual</td>\n",
       "      <td>0.228711</td>\n",
       "      <td>0.000000</td>\n",
       "      <td>0.811860</td>\n",
       "      <td>-0.148466</td>\n",
       "      <td>-1.998634</td>\n",
       "      <td>2.094182e-16</td>\n",
       "      <td>-0.977084</td>\n",
       "      <td>-0.254816</td>\n",
       "      <td>-0.625196</td>\n",
       "      <td>premium ad car</td>\n",
       "      <td>1</td>\n",
       "    </tr>\n",
       "    <tr>\n",
       "      <th>2</th>\n",
       "      <td>mercedes-benz</td>\n",
       "      <td>0.355021</td>\n",
       "      <td>0.275805</td>\n",
       "      <td>luxury sedan</td>\n",
       "      <td>auto</td>\n",
       "      <td>-0.153607</td>\n",
       "      <td>-0.633756</td>\n",
       "      <td>-0.430186</td>\n",
       "      <td>0.030461</td>\n",
       "      <td>0.761290</td>\n",
       "      <td>-5.540114e-01</td>\n",
       "      <td>0.008004</td>\n",
       "      <td>-0.245665</td>\n",
       "      <td>-0.211154</td>\n",
       "      <td>parf car</td>\n",
       "      <td>1</td>\n",
       "    </tr>\n",
       "    <tr>\n",
       "      <th>3</th>\n",
       "      <td>mercedes-benz</td>\n",
       "      <td>0.933078</td>\n",
       "      <td>1.092379</td>\n",
       "      <td>luxury sedan</td>\n",
       "      <td>auto</td>\n",
       "      <td>0.099216</td>\n",
       "      <td>-0.270931</td>\n",
       "      <td>-0.517945</td>\n",
       "      <td>0.099638</td>\n",
       "      <td>-0.072703</td>\n",
       "      <td>-6.055892e-01</td>\n",
       "      <td>0.870526</td>\n",
       "      <td>0.195849</td>\n",
       "      <td>0.308156</td>\n",
       "      <td>parf car</td>\n",
       "      <td>1</td>\n",
       "    </tr>\n",
       "    <tr>\n",
       "      <th>4</th>\n",
       "      <td>NaN</td>\n",
       "      <td>0.933078</td>\n",
       "      <td>0.888236</td>\n",
       "      <td>mid-sized sedan</td>\n",
       "      <td>auto</td>\n",
       "      <td>-0.391630</td>\n",
       "      <td>-0.604730</td>\n",
       "      <td>-0.428395</td>\n",
       "      <td>-0.209841</td>\n",
       "      <td>-0.972048</td>\n",
       "      <td>-5.521694e-01</td>\n",
       "      <td>-0.186367</td>\n",
       "      <td>-0.431889</td>\n",
       "      <td>-0.310867</td>\n",
       "      <td>parf car</td>\n",
       "      <td>1</td>\n",
       "    </tr>\n",
       "  </tbody>\n",
       "</table>\n",
       "</div>"
      ],
      "text/plain": [
       "            make  manufactured  reg_date  type_of_vehicle transmission  \\\n",
       "0            bmw     -0.223036 -0.336626     luxury sedan         auto   \n",
       "1            NaN     -0.030351  0.071661              van       manual   \n",
       "2  mercedes-benz      0.355021  0.275805     luxury sedan         auto   \n",
       "3  mercedes-benz      0.933078  1.092379     luxury sedan         auto   \n",
       "4            NaN      0.933078  0.888236  mid-sized sedan         auto   \n",
       "\n",
       "   curb_weight     power  engine_cap  depreciation       coe      road_tax  \\\n",
       "0     0.006720  0.019330   -0.070199      0.167256  2.262400 -1.211269e-01   \n",
       "1     0.228711  0.000000    0.811860     -0.148466 -1.998634  2.094182e-16   \n",
       "2    -0.153607 -0.633756   -0.430186      0.030461  0.761290 -5.540114e-01   \n",
       "3     0.099216 -0.270931   -0.517945      0.099638 -0.072703 -6.055892e-01   \n",
       "4    -0.391630 -0.604730   -0.428395     -0.209841 -0.972048 -5.521694e-01   \n",
       "\n",
       "   dereg_value       omv       arf              c1  is_train  \n",
       "0     0.080242  0.170062  0.198792        parf car         1  \n",
       "1    -0.977084 -0.254816 -0.625196  premium ad car         1  \n",
       "2     0.008004 -0.245665 -0.211154        parf car         1  \n",
       "3     0.870526  0.195849  0.308156        parf car         1  \n",
       "4    -0.186367 -0.431889 -0.310867        parf car         1  "
      ]
     },
     "metadata": {},
     "execution_count": 198
    }
   ],
   "metadata": {}
  },
  {
   "cell_type": "code",
   "execution_count": 196,
   "source": [
    "all_dataset_dummies = pd.get_dummies(all_dataset, dummy_na=True)\n",
    "all_dataset_dummies.head()"
   ],
   "outputs": [
    {
     "output_type": "execute_result",
     "data": {
      "text/html": [
       "<div>\n",
       "<style scoped>\n",
       "    .dataframe tbody tr th:only-of-type {\n",
       "        vertical-align: middle;\n",
       "    }\n",
       "\n",
       "    .dataframe tbody tr th {\n",
       "        vertical-align: top;\n",
       "    }\n",
       "\n",
       "    .dataframe thead th {\n",
       "        text-align: right;\n",
       "    }\n",
       "</style>\n",
       "<table border=\"1\" class=\"dataframe\">\n",
       "  <thead>\n",
       "    <tr style=\"text-align: right;\">\n",
       "      <th></th>\n",
       "      <th>manufactured</th>\n",
       "      <th>reg_date</th>\n",
       "      <th>curb_weight</th>\n",
       "      <th>power</th>\n",
       "      <th>engine_cap</th>\n",
       "      <th>depreciation</th>\n",
       "      <th>coe</th>\n",
       "      <th>road_tax</th>\n",
       "      <th>dereg_value</th>\n",
       "      <th>omv</th>\n",
       "      <th>...</th>\n",
       "      <th>c1_almost new car</th>\n",
       "      <th>c1_coe car</th>\n",
       "      <th>c1_consignment car</th>\n",
       "      <th>c1_direct owner sale</th>\n",
       "      <th>c1_imported used vehicle</th>\n",
       "      <th>c1_low mileage car</th>\n",
       "      <th>c1_opc car</th>\n",
       "      <th>c1_parf car</th>\n",
       "      <th>c1_premium ad car</th>\n",
       "      <th>c1_nan</th>\n",
       "    </tr>\n",
       "  </thead>\n",
       "  <tbody>\n",
       "    <tr>\n",
       "      <th>0</th>\n",
       "      <td>-0.223036</td>\n",
       "      <td>-0.336626</td>\n",
       "      <td>0.006720</td>\n",
       "      <td>0.019330</td>\n",
       "      <td>-0.070199</td>\n",
       "      <td>0.167256</td>\n",
       "      <td>2.262400</td>\n",
       "      <td>-1.211269e-01</td>\n",
       "      <td>0.080242</td>\n",
       "      <td>0.170062</td>\n",
       "      <td>...</td>\n",
       "      <td>0</td>\n",
       "      <td>0</td>\n",
       "      <td>0</td>\n",
       "      <td>0</td>\n",
       "      <td>0</td>\n",
       "      <td>0</td>\n",
       "      <td>0</td>\n",
       "      <td>1</td>\n",
       "      <td>0</td>\n",
       "      <td>0</td>\n",
       "    </tr>\n",
       "    <tr>\n",
       "      <th>1</th>\n",
       "      <td>-0.030351</td>\n",
       "      <td>0.071661</td>\n",
       "      <td>0.228711</td>\n",
       "      <td>0.000000</td>\n",
       "      <td>0.811860</td>\n",
       "      <td>-0.148466</td>\n",
       "      <td>-1.998634</td>\n",
       "      <td>2.094182e-16</td>\n",
       "      <td>-0.977084</td>\n",
       "      <td>-0.254816</td>\n",
       "      <td>...</td>\n",
       "      <td>0</td>\n",
       "      <td>0</td>\n",
       "      <td>0</td>\n",
       "      <td>0</td>\n",
       "      <td>0</td>\n",
       "      <td>0</td>\n",
       "      <td>0</td>\n",
       "      <td>0</td>\n",
       "      <td>1</td>\n",
       "      <td>0</td>\n",
       "    </tr>\n",
       "    <tr>\n",
       "      <th>2</th>\n",
       "      <td>0.355021</td>\n",
       "      <td>0.275805</td>\n",
       "      <td>-0.153607</td>\n",
       "      <td>-0.633756</td>\n",
       "      <td>-0.430186</td>\n",
       "      <td>0.030461</td>\n",
       "      <td>0.761290</td>\n",
       "      <td>-5.540114e-01</td>\n",
       "      <td>0.008004</td>\n",
       "      <td>-0.245665</td>\n",
       "      <td>...</td>\n",
       "      <td>0</td>\n",
       "      <td>0</td>\n",
       "      <td>0</td>\n",
       "      <td>0</td>\n",
       "      <td>0</td>\n",
       "      <td>0</td>\n",
       "      <td>0</td>\n",
       "      <td>1</td>\n",
       "      <td>0</td>\n",
       "      <td>0</td>\n",
       "    </tr>\n",
       "    <tr>\n",
       "      <th>3</th>\n",
       "      <td>0.933078</td>\n",
       "      <td>1.092379</td>\n",
       "      <td>0.099216</td>\n",
       "      <td>-0.270931</td>\n",
       "      <td>-0.517945</td>\n",
       "      <td>0.099638</td>\n",
       "      <td>-0.072703</td>\n",
       "      <td>-6.055892e-01</td>\n",
       "      <td>0.870526</td>\n",
       "      <td>0.195849</td>\n",
       "      <td>...</td>\n",
       "      <td>0</td>\n",
       "      <td>0</td>\n",
       "      <td>0</td>\n",
       "      <td>0</td>\n",
       "      <td>0</td>\n",
       "      <td>0</td>\n",
       "      <td>0</td>\n",
       "      <td>1</td>\n",
       "      <td>0</td>\n",
       "      <td>0</td>\n",
       "    </tr>\n",
       "    <tr>\n",
       "      <th>4</th>\n",
       "      <td>0.933078</td>\n",
       "      <td>0.888236</td>\n",
       "      <td>-0.391630</td>\n",
       "      <td>-0.604730</td>\n",
       "      <td>-0.428395</td>\n",
       "      <td>-0.209841</td>\n",
       "      <td>-0.972048</td>\n",
       "      <td>-5.521694e-01</td>\n",
       "      <td>-0.186367</td>\n",
       "      <td>-0.431889</td>\n",
       "      <td>...</td>\n",
       "      <td>0</td>\n",
       "      <td>0</td>\n",
       "      <td>0</td>\n",
       "      <td>0</td>\n",
       "      <td>0</td>\n",
       "      <td>0</td>\n",
       "      <td>0</td>\n",
       "      <td>1</td>\n",
       "      <td>0</td>\n",
       "      <td>0</td>\n",
       "    </tr>\n",
       "  </tbody>\n",
       "</table>\n",
       "<p>5 rows × 124 columns</p>\n",
       "</div>"
      ],
      "text/plain": [
       "   manufactured  reg_date  curb_weight     power  engine_cap  depreciation  \\\n",
       "0     -0.223036 -0.336626     0.006720  0.019330   -0.070199      0.167256   \n",
       "1     -0.030351  0.071661     0.228711  0.000000    0.811860     -0.148466   \n",
       "2      0.355021  0.275805    -0.153607 -0.633756   -0.430186      0.030461   \n",
       "3      0.933078  1.092379     0.099216 -0.270931   -0.517945      0.099638   \n",
       "4      0.933078  0.888236    -0.391630 -0.604730   -0.428395     -0.209841   \n",
       "\n",
       "        coe      road_tax  dereg_value       omv  ...  c1_almost new car  \\\n",
       "0  2.262400 -1.211269e-01     0.080242  0.170062  ...                  0   \n",
       "1 -1.998634  2.094182e-16    -0.977084 -0.254816  ...                  0   \n",
       "2  0.761290 -5.540114e-01     0.008004 -0.245665  ...                  0   \n",
       "3 -0.072703 -6.055892e-01     0.870526  0.195849  ...                  0   \n",
       "4 -0.972048 -5.521694e-01    -0.186367 -0.431889  ...                  0   \n",
       "\n",
       "   c1_coe car  c1_consignment car  c1_direct owner sale  \\\n",
       "0           0                   0                     0   \n",
       "1           0                   0                     0   \n",
       "2           0                   0                     0   \n",
       "3           0                   0                     0   \n",
       "4           0                   0                     0   \n",
       "\n",
       "   c1_imported used vehicle  c1_low mileage car  c1_opc car  c1_parf car  \\\n",
       "0                         0                   0           0            1   \n",
       "1                         0                   0           0            0   \n",
       "2                         0                   0           0            1   \n",
       "3                         0                   0           0            1   \n",
       "4                         0                   0           0            1   \n",
       "\n",
       "   c1_premium ad car  c1_nan  \n",
       "0                  0       0  \n",
       "1                  1       0  \n",
       "2                  0       0  \n",
       "3                  0       0  \n",
       "4                  0       0  \n",
       "\n",
       "[5 rows x 124 columns]"
      ]
     },
     "metadata": {},
     "execution_count": 196
    }
   ],
   "metadata": {}
  },
  {
   "cell_type": "code",
   "execution_count": 200,
   "source": [
    "train_data = all_dataset_dummies[all_dataset_dummies.is_train == 1]\n",
    "train_data[\"price\"] = car_resale_dataset_cleaned[\"price\"]\n",
    "train_data.drop(\"is_train\",axis=1, inplace=True)\n",
    "test_data = all_dataset_dummies[all_dataset_dummies.is_train == 0]\n",
    "test_data.drop(\"is_train\",axis=1, inplace=True)\n",
    "train_data.to_csv(\"./data/preprocessed_train_data.csv\",index=None)\n",
    "test_data.to_csv(\"./data/preprocessed_test_data.csv\",index=None)\n",
    "train_data.shape, test_data.shape,car_resale_dataset_cleaned[\"price\"].shape"
   ],
   "outputs": [
    {
     "output_type": "stream",
     "name": "stderr",
     "text": [
      "<ipython-input-200-16dc830fa6a6>:2: SettingWithCopyWarning: \n",
      "A value is trying to be set on a copy of a slice from a DataFrame.\n",
      "Try using .loc[row_indexer,col_indexer] = value instead\n",
      "\n",
      "See the caveats in the documentation: https://pandas.pydata.org/pandas-docs/stable/user_guide/indexing.html#returning-a-view-versus-a-copy\n",
      "  train_data[\"price\"] = car_resale_dataset_cleaned[\"price\"]\n",
      "/Users/Vincent/anaconda3/envs/d2l/lib/python3.8/site-packages/pandas/core/frame.py:4308: SettingWithCopyWarning: \n",
      "A value is trying to be set on a copy of a slice from a DataFrame\n",
      "\n",
      "See the caveats in the documentation: https://pandas.pydata.org/pandas-docs/stable/user_guide/indexing.html#returning-a-view-versus-a-copy\n",
      "  return super().drop(\n",
      "/Users/Vincent/anaconda3/envs/d2l/lib/python3.8/site-packages/pandas/core/frame.py:4308: SettingWithCopyWarning: \n",
      "A value is trying to be set on a copy of a slice from a DataFrame\n",
      "\n",
      "See the caveats in the documentation: https://pandas.pydata.org/pandas-docs/stable/user_guide/indexing.html#returning-a-view-versus-a-copy\n",
      "  return super().drop(\n"
     ]
    },
    {
     "output_type": "execute_result",
     "data": {
      "text/plain": [
       "((16589, 124), (5000, 123), (16589,))"
      ]
     },
     "metadata": {},
     "execution_count": 200
    }
   ],
   "metadata": {}
  }
 ],
 "metadata": {
  "orig_nbformat": 4,
  "language_info": {
   "name": "python",
   "version": "3.8.8",
   "mimetype": "text/x-python",
   "codemirror_mode": {
    "name": "ipython",
    "version": 3
   },
   "pygments_lexer": "ipython3",
   "nbconvert_exporter": "python",
   "file_extension": ".py"
  },
  "kernelspec": {
   "name": "python3",
   "display_name": "Python 3.8.8 64-bit ('d2l': conda)"
  },
  "interpreter": {
   "hash": "cefd19c026aaab6f2bd325c84b1004ae7f54ade8ee3fd207c95e52be1e5646a7"
  }
 },
 "nbformat": 4,
 "nbformat_minor": 2
}